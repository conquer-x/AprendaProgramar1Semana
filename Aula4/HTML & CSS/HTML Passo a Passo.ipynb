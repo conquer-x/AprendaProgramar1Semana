{
 "cells": [
  {
   "cell_type": "markdown",
   "metadata": {},
   "source": [
    "### HTML\n",
    "Apesar do `Jupyter Notebok` não ser a melhor alternativa para se programar em HTML e CSS, ele vem com alguns recursos que irão deixar o nosso aprendizado mais fácil.\n",
    "\n",
    "o código abaixo `%%HTML` faz com que o código da célula seja rodado como um código HTML. Apenas execute e você verá que o valor abaixo da célula se transformará em um \"retorno renderizado\" do HTML"
   ]
  },
  {
   "cell_type": "code",
   "execution_count": 12,
   "metadata": {},
   "outputs": [
    {
     "data": {
      "text/html": [
       "<p>Este é um parágrafo <strong>com palavras em negrito</strong> e com palavras em <i>itálico</i>. Este está com \n",
       "\n",
       "\n",
       "\n",
       "<strong><i>AMBOS</i></strong>. <br> Este texto estará em outra linha.\n",
       "\n",
       "</p>\n",
       "<p>Segundo Parágrafo</p>\n"
      ],
      "text/plain": [
       "<IPython.core.display.HTML object>"
      ]
     },
     "metadata": {},
     "output_type": "display_data"
    }
   ],
   "source": [
    "%%HTML\n",
    "<p>Este é um parágrafo <strong>com palavras em negrito</strong> e com palavras em <i>itálico</i>. Este está com \n",
    "\n",
    "\n",
    "\n",
    "<strong><i>AMBOS</i></strong>. <br> Este texto estará em outra linha.\n",
    "\n",
    "</p>\n",
    "<p>Segundo Parágrafo</p>"
   ]
  },
  {
   "cell_type": "markdown",
   "metadata": {},
   "source": [
    "Repare que na \"programação\" do texto acima, nós colocamos várias espaços entre as duas frases, mas elas foram ignoradas. Já a terceira frase está em uma nova linha devido ao símbolo `<br>`."
   ]
  }
 ],
 "metadata": {
  "kernelspec": {
   "display_name": "Python 3",
   "language": "python",
   "name": "python3"
  },
  "language_info": {
   "codemirror_mode": {
    "name": "ipython",
    "version": 3
   },
   "file_extension": ".py",
   "mimetype": "text/x-python",
   "name": "python",
   "nbconvert_exporter": "python",
   "pygments_lexer": "ipython3",
   "version": "3.6.8"
  }
 },
 "nbformat": 4,
 "nbformat_minor": 2
}
