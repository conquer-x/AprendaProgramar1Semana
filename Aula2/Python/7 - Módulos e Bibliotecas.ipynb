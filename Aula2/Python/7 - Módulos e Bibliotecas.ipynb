{
 "cells": [
  {
   "cell_type": "markdown",
   "metadata": {},
   "source": [
    "# Módulos e Bibliotecas\n",
    "\n",
    "- Bibliotecas são pedaços de código que encapsulam algum conhecimento\n",
    "- Usamos módulos para definir funcionalidades comuns e assim facilitar o uso\n",
    "- Podem ser reutilizados\n",
    "- Ajudam a explicar o \"negócio\""
   ]
  },
  {
   "cell_type": "markdown",
   "metadata": {},
   "source": [
    "### Como criar módulos\n",
    "Como a definição de usar tabs ou espaços para definir pedaços do código, a criação das bibliotecas (ou pacotes) seguem uma convenção.\n",
    "\n",
    "Assim, para definir um módulo deve-se criar simplesmente um arquivo com o nome `__init__.py` no diretório. Um exemplo:"
   ]
  },
  {
   "cell_type": "markdown",
   "metadata": {},
   "source": [
    "```\n",
    "conquerx/\n",
    "    __init__.py\n",
    "\n",
    "    caixa/\n",
    "        __ini__.py\n",
    "        recibo.py\n",
    "        carrinho.py\n",
    "\n",
    "\n",
    "    produto/\n",
    "        __init__.py\n",
    "\n",
    "        curso/\n",
    "            __init__.py\n",
    "            cursoBase.py\n",
    "            cursoIntro.py\n",
    "            cursoReact.py\n",
    "\n",
    "        consultoria/\n",
    "            __init__.py\n",
    "            consultoriaBase.py\n",
    "            consultoriaReact.py\n",
    "            consultoriaPython.py\n",
    "\n",
    "```"
   ]
  },
  {
   "cell_type": "code",
   "execution_count": null,
   "metadata": {},
   "outputs": [],
   "source": [
    "from conquerx.produto.curso.cursoReact import CursoReact\n",
    "\n",
    "react = CursoReact('cwb', 'centro', '02/04/2019', '1 vez semana', 'R$999,99')\n",
    "print(react)"
   ]
  },
  {
   "cell_type": "code",
   "execution_count": null,
   "metadata": {},
   "outputs": [],
   "source": [
    "from conquerx.produto.curso.cursoIntro import CursoIntro\n",
    "intro = CursoIntro('cwb', 'centro', '02/04/2019', '1 vez semana', 'R$999,99')\n",
    "print(intro)"
   ]
  }
 ],
 "metadata": {
  "kernelspec": {
   "display_name": "py36",
   "language": "python",
   "name": "py36"
  },
  "language_info": {
   "codemirror_mode": {
    "name": "ipython",
    "version": 3
   },
   "file_extension": ".py",
   "mimetype": "text/x-python",
   "name": "python",
   "nbconvert_exporter": "python",
   "pygments_lexer": "ipython3",
   "version": "3.6.8"
  }
 },
 "nbformat": 4,
 "nbformat_minor": 2
}
