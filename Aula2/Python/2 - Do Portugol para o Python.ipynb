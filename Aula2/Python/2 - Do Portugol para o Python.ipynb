{
 "cells": [
  {
   "cell_type": "markdown",
   "metadata": {},
   "source": [
    "## Portugol para o Python\n",
    "\n",
    "A conversão de portugol ou da lógica para Python é bem simples. Muitas das vezes é realmente apenas uma tradução do português para o Inglês.\n",
    "\n",
    "A seguir algumas das principais partes. Antes será colocado o que seria o código em PORTUGOL e depois o código em `\n",
    "Python`"
   ]
  },
  {
   "cell_type": "markdown",
   "metadata": {},
   "source": [
    "### Variáveis\n",
    "*Portugol*: \n",
    "\n",
    "```\n",
    "inteiro minha_var\n",
    "```"
   ]
  },
  {
   "cell_type": "code",
   "execution_count": null,
   "metadata": {},
   "outputs": [],
   "source": [
    "# defina variaveis diretamente com os valores\n",
    "inteiro = 1\n",
    "fracionário = 1.0\n",
    "\n",
    "print(\"Tipo do inteiro {}\".format(type(inteiro)))\n",
    "print(\"Tipo do fracionário {}\".format(type(fracionário)))"
   ]
  },
  {
   "cell_type": "code",
   "execution_count": null,
   "metadata": {},
   "outputs": [],
   "source": [
    "# somatória e soma são como calculadora\n",
    "resultado = 1+5\n",
    "resultado"
   ]
  },
  {
   "cell_type": "code",
   "execution_count": null,
   "metadata": {},
   "outputs": [],
   "source": [
    "# pode-se fazer ainda uma soma, subtração, etc na mesma variável\n",
    "resultado += 5\n",
    "print(resultado)\n",
    "resultado -= 4\n",
    "print(resultado)"
   ]
  },
  {
   "cell_type": "markdown",
   "metadata": {},
   "source": [
    "*Portugol*: \n",
    "\n",
    "```\n",
    "cadeia texto\n",
    "```\n",
    "\n",
    "*cadeia = strings (nome em ingles)"
   ]
  },
  {
   "cell_type": "code",
   "execution_count": null,
   "metadata": {},
   "outputs": [],
   "source": [
    "# variáveis do tipo texto são chamadas de Strings\n",
    "texto = \"este é um texto\"\n",
    "print(type(texto))"
   ]
  },
  {
   "cell_type": "code",
   "execution_count": null,
   "metadata": {},
   "outputs": [],
   "source": [
    "# strings podem ser definidas com ' , \" ou \"\"\" \n",
    "texto = \"texto com aspas duplas podem usar aspas 'simples'\"\n",
    "print(texto)\n",
    "\n",
    "texto = 'texto com aspas duplas podem usar aspas \"simples\"'\n",
    "print(texto)\n",
    "\n",
    "texto_louco = \"\"\"\n",
    "com aspas triplas posso fazer o que quiser\n",
    "dar novas linhas \n",
    "\n",
    "\n",
    "tabs\n",
    "etc.\n",
    "\n",
    "\"\"\"\n",
    "print(texto_louco)"
   ]
  },
  {
   "cell_type": "markdown",
   "metadata": {},
   "source": [
    "### NADA\n",
    "o **Nada** existe no Python. Ele é o valor que representa que uma variável ainda não tem tipo, ou está vazia"
   ]
  },
  {
   "cell_type": "code",
   "execution_count": null,
   "metadata": {},
   "outputs": [],
   "source": [
    "variavel = None\n",
    "print(type(variavel))\n",
    "if variavel==None:\n",
    "    print('entrei no if')\n",
    "else:\n",
    "    print('não entrei')"
   ]
  },
  {
   "cell_type": "markdown",
   "metadata": {},
   "source": [
    "### Condicionais\n",
    "Condicionais são simples no Python tambem.\n",
    "\n",
    "*Portugol*: \n",
    "\n",
    "```\n",
    "se (variavel1 > variavel2) {\n",
    "   } senao {\n",
    "   }\n",
    "```"
   ]
  },
  {
   "cell_type": "code",
   "execution_count": null,
   "metadata": {},
   "outputs": [],
   "source": [
    "a, b, c = 1, 2, 3\n",
    "\n",
    "# um exemplo de ifs alinhados\n",
    "if(c<a):\n",
    "    print(\"C é menor que A\")\n",
    "elif(b<a):\n",
    "    ## senão se é uma maneira de fazer senão e depois um outro se dentro\n",
    "    print(\"B é menor que A e menor C\")\n",
    "else:\n",
    "    print(\"A é menor que B e C\")"
   ]
  },
  {
   "cell_type": "code",
   "execution_count": null,
   "metadata": {},
   "outputs": [],
   "source": [
    "# isto é equivalente ao código acima\n",
    "a, b, c = 1, 2, 3\n",
    "\n",
    "# um exemplo de ifs alinhados\n",
    "if(c<a):\n",
    "    print(\"C é menor que A\")\n",
    "else:\n",
    "    if(b<a):\n",
    "        ## senão se é uma maneira de fazer senão e depois um outro se dentro\n",
    "        print(\"B é menor que A e menor C\")\n",
    "    else:\n",
    "        print(\"A é menor que B e C\")"
   ]
  },
  {
   "cell_type": "markdown",
   "metadata": {},
   "source": [
    "### Operadores Lógicos\n",
    "\n",
    "Operadores lógicos retornam verdadeiro ou falso (`True` or `False`) e podem ser combinados, retornando mais uma vez **verdadeiro** ou **falso**"
   ]
  },
  {
   "cell_type": "code",
   "execution_count": null,
   "metadata": {},
   "outputs": [],
   "source": [
    "a>b"
   ]
  },
  {
   "cell_type": "code",
   "execution_count": null,
   "metadata": {},
   "outputs": [],
   "source": [
    "# mesmo teste do if, mas agora com operadores lógicos\n",
    "a<b and b<c"
   ]
  },
  {
   "cell_type": "code",
   "execution_count": null,
   "metadata": {},
   "outputs": [],
   "source": [
    "a<c or b<c"
   ]
  },
  {
   "cell_type": "code",
   "execution_count": null,
   "metadata": {},
   "outputs": [],
   "source": [
    "# verificando se são iguais\n",
    "d = 1\n",
    "a==d"
   ]
  },
  {
   "cell_type": "code",
   "execution_count": null,
   "metadata": {},
   "outputs": [],
   "source": [
    "# verificando se são diferentes\n",
    "a!=d"
   ]
  },
  {
   "cell_type": "markdown",
   "metadata": {},
   "source": [
    "### Funcoes"
   ]
  },
  {
   "cell_type": "markdown",
   "metadata": {},
   "source": [
    "*Portugol*: \n",
    "\n",
    "```\n",
    "funcao <tipo do retorno> nome_da_funcao(tipo_param param1, tipo_param param2) {\n",
    "    <tipo do retorno> variavel\n",
    "    retorna variavel\n",
    "}\n",
    "```\n",
    "\n",
    "*Python*\n",
    "\n",
    "``` python\n",
    "def nomeFuncao(param1, param2):\n",
    "    variavel =1\n",
    "    return variavel\n",
    "```"
   ]
  },
  {
   "cell_type": "code",
   "execution_count": null,
   "metadata": {},
   "outputs": [],
   "source": [
    "# defina funcoes usando def. O código deve ter espacos na frente para mostrar que está dentro da funcao\n",
    "def funcao(parametro, p_definido=0):\n",
    "    \"\"\"\n",
    "    Esta é uma funcao de exemplo. Isto é um comentário\n",
    "    \n",
    "    Args:\n",
    "        parametro: este é o parametro de entrada\n",
    "        p_nomeado: este parâmetro está definido como 0. \n",
    "        \n",
    "    returns:\n",
    "        pode retornar o que quiser. Apenas use return \"valor\" onde \"valor\" pode ser qualquer coisa.\n",
    "        \n",
    "    Examples:\n",
    "        funcao(1, p_definido=2)  # um inteiro no primeiro parametro e um valor no segundo, usando o nome do param\n",
    "        funcao('texto', 2) # um texto passado como o primeiro parametro e um valor como segundo, sem nomear\n",
    "        funcao('texto') # somente 1 parametro. O segundo será o definido na funcao. Neste caso, 0\n",
    "    \"\"\"\n",
    "    print(\"Parametro 1: {}\".format(parametro))\n",
    "    print(\"Parametro 2: {}\".format(p_definido))"
   ]
  },
  {
   "cell_type": "code",
   "execution_count": null,
   "metadata": {},
   "outputs": [],
   "source": [
    "funcao(1, p_definido=2)\n"
   ]
  },
  {
   "cell_type": "code",
   "execution_count": null,
   "metadata": {},
   "outputs": [],
   "source": [
    "funcao('texto', 2)"
   ]
  },
  {
   "cell_type": "code",
   "execution_count": null,
   "metadata": {},
   "outputs": [],
   "source": [
    "funcao('texto')"
   ]
  },
  {
   "cell_type": "markdown",
   "metadata": {},
   "source": [
    "### Entradas e Saídas\n",
    "\n",
    "*Portugol*: \n",
    "\n",
    "```\n",
    "escreva('meu texto de saída') \n",
    "leia(variavel)\n",
    "```"
   ]
  },
  {
   "cell_type": "code",
   "execution_count": null,
   "metadata": {},
   "outputs": [],
   "source": [
    "# saída\n",
    "print(\"Esta é uma saída\")"
   ]
  },
  {
   "cell_type": "code",
   "execution_count": null,
   "metadata": {},
   "outputs": [],
   "source": [
    "# o python converte automaticamente\n",
    "print(\"Este era o valor da variável inteiro: {}\".format(inteiro))"
   ]
  },
  {
   "cell_type": "code",
   "execution_count": null,
   "metadata": {},
   "outputs": [],
   "source": [
    "# leitura\n",
    "variavel_lida = input(\"Mensagem para o input\\n\")\n",
    "variavel_lida"
   ]
  },
  {
   "cell_type": "markdown",
   "metadata": {},
   "source": [
    "### Loops\n",
    "\n",
    "*Portugol*: \n",
    "\n",
    "```\n",
    "enquanto (jogar) { }\n",
    "para (inteiro i = 0; i < 8; i++) {}\n",
    "\n",
    "```"
   ]
  },
  {
   "cell_type": "code",
   "execution_count": null,
   "metadata": {},
   "outputs": [],
   "source": [
    "# loops com while (enquanto)\n",
    "cont = 0\n",
    "while True:\n",
    "    print(\"Valor da variável cont: {}\".format(cont))\n",
    "    cont += 1\n",
    "    if cont==3:\n",
    "        break"
   ]
  },
  {
   "cell_type": "code",
   "execution_count": null,
   "metadata": {},
   "outputs": [],
   "source": [
    "# loops com for. Range gera uma lista de 0 a 2\n",
    "for i in range(3):\n",
    "    print(i)"
   ]
  },
  {
   "cell_type": "code",
   "execution_count": null,
   "metadata": {},
   "outputs": [],
   "source": [
    "# podemos ir de elemento em elemento\n",
    "lista = [1,10,20]\n",
    "for valor in lista:\n",
    "    print(valor)"
   ]
  },
  {
   "cell_type": "code",
   "execution_count": null,
   "metadata": {},
   "outputs": [],
   "source": []
  }
 ],
 "metadata": {
  "anaconda-cloud": {},
  "kernelspec": {
   "display_name": "py36",
   "language": "python",
   "name": "py36"
  },
  "language_info": {
   "codemirror_mode": {
    "name": "ipython",
    "version": 3
   },
   "file_extension": ".py",
   "mimetype": "text/x-python",
   "name": "python",
   "nbconvert_exporter": "python",
   "pygments_lexer": "ipython3",
   "version": "3.6.8"
  }
 },
 "nbformat": 4,
 "nbformat_minor": 2
}
