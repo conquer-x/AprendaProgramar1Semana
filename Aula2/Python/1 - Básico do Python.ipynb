{
 "cells": [
  {
   "cell_type": "markdown",
   "metadata": {},
   "source": [
    "## Sobre o notebook"
   ]
  },
  {
   "cell_type": "markdown",
   "metadata": {},
   "source": [
    "Este é um Jupyter Notebook. É uma ferramenta importante para poder trabalhar com o Python e desenvolver aplicações. Entre as vantagens do notebook estão:\n",
    "\n",
    "- todas as variáveis são mantidas enquando o \"Kernel\" (este notebook) estiver ligado\n",
    "- pode-se rodar códigos em células, faciliando o teste e o desenvolvimento de pequenas melhorias \n",
    "- interface que pode misturar código, comentário, HTML, controles interativos, imagens, etc\n",
    "- o código pode ser compartilhado usando o arquivo do Notebook ou ainda criando um arquivo python somente\n",
    "- completa o seu código, quando você começar a escrever e apertar a tecla &#60;TAB&#62;\n",
    "\n",
    "Para cada célula, se pode mudar o tipo e assim dizer ao notebook se a célula é um código ou uma anotação (entre outras)"
   ]
  },
  {
   "cell_type": "markdown",
   "metadata": {},
   "source": [
    "# Troque na barra em cima, de code para Markdown e depois aperte no play (ou aperte as teclas CTRL+ENTER)"
   ]
  },
  {
   "cell_type": "markdown",
   "metadata": {},
   "source": [
    "O código acima usa um padrão chamado MARKDOWN, que permite formatar o texto facilmente.\n",
    "\n",
    "Para verificar como usar o markdown, referencia este [link](https://github.com/adam-p/markdown-here/wiki/Markdown-Cheatsheet)"
   ]
  },
  {
   "cell_type": "markdown",
   "metadata": {},
   "source": [
    "Normalmente, você usará:\n",
    "\n",
    "## Título 2 (colocar ## antes do texto)\n",
    "### Título 3   (colocar ### antes do texto)\n",
    "#### Título 4     (colocar #### antes do texto)"
   ]
  },
  {
   "cell_type": "markdown",
   "metadata": {},
   "source": [
    "Links para outras páginas devem ficar entre [texto que aparecerá] (http://escolaconquer.com.br)\n"
   ]
  },
  {
   "cell_type": "markdown",
   "metadata": {},
   "source": [
    "[escolaconquer](http://escolaconquer.com.br)"
   ]
  },
  {
   "cell_type": "markdown",
   "metadata": {},
   "source": [
    "E faça bullet points usando o -\n",
    "\n",
    "Este é o meu bullet:\n",
    "    \n",
    "- item1\n",
    "- item2"
   ]
  },
  {
   "cell_type": "markdown",
   "metadata": {},
   "source": [
    "Você também pode formatar o texto usando o *:\n",
    "\n",
    "- *negrito* (* antes e depois do texto)\n",
    "- **italico** (2* antes e depois do texto)\n",
    "- ***negrito+itálico*** (3* antes e depois do texto)"
   ]
  },
  {
   "cell_type": "markdown",
   "metadata": {},
   "source": [
    "Também você usará três aspas para marcar um pedaço de código ```\n",
    "\n",
    "``` python\n",
    "import this\n",
    "\n",
    "a = 1\n",
    "```"
   ]
  },
  {
   "cell_type": "markdown",
   "metadata": {},
   "source": [
    "## Exercício\n",
    "Você me verá nestes notebooks. Esta parte deve ser preenchida por você!!\n",
    "\n",
    "Execute a célula abaixo:"
   ]
  },
  {
   "cell_type": "markdown",
   "metadata": {},
   "source": [
    "## Você no próximo dia\n",
    "![gatolouco](imagens/gatoloco.gif)"
   ]
  },
  {
   "cell_type": "markdown",
   "metadata": {},
   "source": [
    "## Básico do Python\n",
    "\n",
    "`#` é usado para comentário. É ignorado pelo Python."
   ]
  },
  {
   "cell_type": "markdown",
   "metadata": {},
   "source": [
    "### Ajuda Oficial\n",
    "https://docs.python.org/3/"
   ]
  },
  {
   "cell_type": "markdown",
   "metadata": {},
   "source": [
    "#### Pulo do Gato\n",
    "\n",
    "use [este site](http://www.google.com)"
   ]
  },
  {
   "cell_type": "markdown",
   "metadata": {},
   "source": [
    "### Identacao\n",
    "O Codigo tem que ser arrumado (identado) com tabs para que seja reconhecido. Os loops e ifs sao definidos com :"
   ]
  },
  {
   "cell_type": "code",
   "execution_count": null,
   "metadata": {},
   "outputs": [],
   "source": [
    "texto = \"meu teste\"\n",
    "\n",
    "# loops (laço). Repare na construcao com : e tabs\n",
    "for ch in texto:\n",
    "    # dentro do for\n",
    "    print(ch)\n",
    "    \n",
    "    if ch==\"t\":\n",
    "        # dentro do if\n",
    "        print(\"esta letra é T\")\n"
   ]
  },
  {
   "cell_type": "markdown",
   "metadata": {},
   "source": [
    "Muito mais fácil que isto:"
   ]
  },
  {
   "cell_type": "code",
   "execution_count": null,
   "metadata": {},
   "outputs": [],
   "source": [
    "texto = \"meu teste\"\n",
    "\n",
    "# loops (laço). Repare na construcao com : e tabs\n",
    "for ch in texto {\n",
    "# dentro do for\n",
    "print(ch)\n",
    "if ch==\"t\"{\n",
    "# dentro do if\n",
    "print(\"esta letra é T\")\n",
    "}\n",
    "}"
   ]
  }
 ],
 "metadata": {
  "anaconda-cloud": {},
  "kernelspec": {
   "display_name": "py36",
   "language": "python",
   "name": "py36"
  },
  "language_info": {
   "codemirror_mode": {
    "name": "ipython",
    "version": 3
   },
   "file_extension": ".py",
   "mimetype": "text/x-python",
   "name": "python",
   "nbconvert_exporter": "python",
   "pygments_lexer": "ipython3",
   "version": "3.6.8"
  }
 },
 "nbformat": 4,
 "nbformat_minor": 2
}
