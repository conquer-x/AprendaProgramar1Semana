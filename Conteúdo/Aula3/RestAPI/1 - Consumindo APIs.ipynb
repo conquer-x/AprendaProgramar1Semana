{
 "cells": [
  {
   "cell_type": "markdown",
   "metadata": {},
   "source": [
    "## Consumindo APIs\n",
    "Conforme vimos até agora, APIs facilitam e muito a troca de informações pela web. Elas são responsáveis por muito do crescimento dos serviços e automações que aconteceram nos últimos anos. Assim, quando quiser automatizar algum serviço procure se existe alguma API que te ajude neste processo.\n",
    "\n",
    "Um dos grandes motivos de se criarem APIs é pela facilidade de se escalar o acesso à um website. Como o serviço REST tem que ser autocontido e a operação não precisa memorizar o passado, se pode criar vários servidores que irão responder ao mesmo chamado (ex: trazer informações a respeito de produtos)"
   ]
  },
  {
   "cell_type": "markdown",
   "metadata": {},
   "source": [
    "### Objetivo\n",
    "Nesta atividade iremos utilizar uma API da Marvel. Afinal, por que não existiria uma? Queremos uma lista dos personagens e descrições assim como links para podermos conhecer os personagens.\n",
    "\n",
    "Inicialmente, devemos efetuar um cadastro para que acessar os dados:\n",
    "\n",
    "[Marvel Developer](https://developer.marvel.com/account)\n",
    "\n",
    "Praticamente todos os sites terão uma explicação do que são as suas APIs e como usá-las:\n",
    "\n",
    "[API Docs](https://developer.marvel.com/docs)"
   ]
  },
  {
   "cell_type": "code",
   "execution_count": null,
   "metadata": {},
   "outputs": [],
   "source": [
    "# importamos as bibliotecas que usaremos.\n",
    "import requests\n",
    "import marvelAuth"
   ]
  },
  {
   "cell_type": "code",
   "execution_count": null,
   "metadata": {},
   "outputs": [],
   "source": [
    "# configure aqui os parâmetros da sua conta de desenvolvedor\n",
    "public_key=\"53d4af559c2e574c5eed024bf4823bf9\"\n",
    "private_key=\"2527caef698b1ceb09994daa3b8a1196c93ce3cc\"\n",
    "auth = {\n",
    "    \"public\":public_key,\n",
    "    \"private\":private_key\n",
    "    }\n",
    "params=marvelAuth.get(auth)\n",
    "params"
   ]
  },
  {
   "cell_type": "code",
   "execution_count": null,
   "metadata": {},
   "outputs": [],
   "source": [
    "# algumas variáveis para faciliar a chamada ao servidor\n",
    "url_base = \"http://gateway.marvel.com/v1/public/characters?\"\n",
    "_limite = \"&limit={}\"\n",
    "_offset = \"&offset={}\"\n",
    "\n",
    "# usaremos o comando GET a maioria das vezes\n",
    "ret = requests.get(url_base+params+_limite.format(10))\n",
    "dicionario = ret.json()\n",
    "dicionario.keys()"
   ]
  },
  {
   "cell_type": "code",
   "execution_count": null,
   "metadata": {},
   "outputs": [],
   "source": [
    "# verificando como vem a resposta. JSON\n",
    "dicionario['data']"
   ]
  },
  {
   "cell_type": "code",
   "execution_count": null,
   "metadata": {},
   "outputs": [],
   "source": [
    "# processando o resumo deles\n",
    "lista_resultados = dicionario['data']['results']\n",
    "print(\"Numero total de personagens: {}\".format(dicionario['data']['total']))\n",
    "print(\"Numero de personagens nesta requisição {}\".format(len(lista_resultados)))"
   ]
  },
  {
   "cell_type": "code",
   "execution_count": null,
   "metadata": {},
   "outputs": [],
   "source": [
    "# processsando o resultado. O primeiro deles\n",
    "lista_resultados[0]"
   ]
  },
  {
   "cell_type": "markdown",
   "metadata": {},
   "source": [
    "No resultado acima, temos o campo `name` e `description`, que trarão o nome e a descrição do personagem. Existe também um campo urls, que é uma lista de urls acessíveis no browser. \n",
    "\n",
    "Como buscamos todos os personagens, descrições e urls que podemos acessar?"
   ]
  },
  {
   "cell_type": "code",
   "execution_count": null,
   "metadata": {},
   "outputs": [],
   "source": [
    "# colocar a lógica aqui\n"
   ]
  },
  {
   "cell_type": "code",
   "execution_count": null,
   "metadata": {},
   "outputs": [],
   "source": [
    "def processaPersonagem(personagem):\n",
    "    \"\"\"\n",
    "    busca as informações de um personagem\n",
    "    \"\"\"\n",
    "    pass\n",
    "processaPersonagem(lista_resultados[0])"
   ]
  },
  {
   "cell_type": "code",
   "execution_count": null,
   "metadata": {},
   "outputs": [],
   "source": [
    "def processaListaPersonagem(lista_personagens):\n",
    "    \"\"\"\n",
    "    busca as informações de todos os personagens que vieram de uma chamada\n",
    "    \"\"\"\n",
    "    pass\n",
    "\n",
    "processaListaPersonagem(lista_resultados)"
   ]
  },
  {
   "cell_type": "code",
   "execution_count": null,
   "metadata": {},
   "outputs": [],
   "source": [
    "import time\n",
    "\n",
    "# para trazer todos, precisaremos buscar várias vezes\n",
    "quantidade_buscada = 100\n",
    "limite = _limite.format(quantidade_buscada)\n",
    "ret = requests.get(url_base+params+limite)\n",
    "lista_processada = []\n",
    "\n",
    "# loop buscando a informação\n"
   ]
  },
  {
   "cell_type": "code",
   "execution_count": null,
   "metadata": {},
   "outputs": [],
   "source": [
    "len(lista_processada)"
   ]
  },
  {
   "cell_type": "code",
   "execution_count": null,
   "metadata": {},
   "outputs": [],
   "source": [
    "from IPython.display import IFrame\n",
    "exemplo = lista_processada[-2]\n",
    "print(\"Mostrando página {}\".format(exemplo['url']))\n",
    "IFrame(exemplo['url'], width=700, height=800)"
   ]
  },
  {
   "cell_type": "markdown",
   "metadata": {},
   "source": [
    "### Dica\n",
    "Sempre verifique antes se alguém já não teve o trabalho de criar uma classe para esconder as chamadas e assim facilitar a vida do desenvolvedor.\n",
    "\n",
    "Procure no google:\n",
    "Marvel API Python wrapper\n",
    "\n",
    "Que maravaliha!! Isto é Python + Open Source\n",
    "\n",
    "https://github.com/gpennington/PyMarvel\n",
    "\n",
    "\n",
    "**ATENÇÃO**: esta biblioteca só funciona em Python2\n"
   ]
  },
  {
   "cell_type": "code",
   "execution_count": null,
   "metadata": {},
   "outputs": [],
   "source": [
    "!pip install pymarvel"
   ]
  },
  {
   "cell_type": "code",
   "execution_count": null,
   "metadata": {},
   "outputs": [],
   "source": [
    "%load_ext autoreload\n",
    "%autoreload 2\n",
    "from marvel.marvel import Marvel\n",
    "m = Marvel(public_key, private_key)\n",
    "character_data_wrapper = m.get_characters(orderBy=\"name,-modified\", limit=\"100\")"
   ]
  },
  {
   "cell_type": "code",
   "execution_count": null,
   "metadata": {},
   "outputs": [],
   "source": [
    "# print the characters\n",
    "for character in character_data_wrapper.data.results:\n",
    "    print(character.name)\n",
    "    print(character.description)\n",
    "    print(character.wiki)\n"
   ]
  }
 ],
 "metadata": {
  "kernelspec": {
   "display_name": "Python 2",
   "language": "python",
   "name": "python2"
  },
  "language_info": {
   "codemirror_mode": {
    "name": "ipython",
    "version": 2
   },
   "file_extension": ".py",
   "mimetype": "text/x-python",
   "name": "python",
   "nbconvert_exporter": "python",
   "pygments_lexer": "ipython2",
   "version": "2.7.12"
  }
 },
 "nbformat": 4,
 "nbformat_minor": 2
}
