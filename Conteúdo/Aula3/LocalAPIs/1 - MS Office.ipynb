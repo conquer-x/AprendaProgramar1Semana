{
 "cells": [
  {
   "cell_type": "markdown",
   "metadata": {},
   "source": [
    "## MSOffice\n",
    "A comunidade também criou bibliotecas para poder manipular arquivos de MSOffice. Apesar de não serem oficiais (by Microsoft), muitas delas têm muito tempo e funcionam muito bem. Inclusive existe um [site](http://www.python-excel.org/) que ajuda as pessoas a encontrarem as bibliotecas."
   ]
  },
  {
   "cell_type": "code",
   "execution_count": null,
   "metadata": {},
   "outputs": [],
   "source": [
    "! pip install openpyxl"
   ]
  },
  {
   "cell_type": "code",
   "execution_count": null,
   "metadata": {},
   "outputs": [],
   "source": [
    "import openpyxl\n",
    "import os\n",
    "diretorio = 'Office'\n",
    "arquivo = 'exemplo.xlsx'\n",
    "wb = openpyxl.load_workbook(os.path.join(diretorio, arquivo))\n",
    "wb.sheetnames"
   ]
  },
  {
   "cell_type": "code",
   "execution_count": null,
   "metadata": {},
   "outputs": [],
   "source": [
    "# pega uma planilha dentro do arquivo (sheet)\n",
    "sheet = wb['Plan3']"
   ]
  },
  {
   "cell_type": "code",
   "execution_count": null,
   "metadata": {},
   "outputs": [],
   "source": [
    "# pegando o valor de uma célula somente\n",
    "print(\"Valor célula B10: {}\".format(sheet['B10'].value))\n",
    "\n",
    "# pegando a coluna\n",
    "sheet['C'][1:5]"
   ]
  },
  {
   "cell_type": "code",
   "execution_count": null,
   "metadata": {},
   "outputs": [],
   "source": [
    "# pegando a linha\n",
    "sheet[1]"
   ]
  },
  {
   "cell_type": "code",
   "execution_count": null,
   "metadata": {},
   "outputs": [],
   "source": [
    "# mostra as 10 primeiras linhas\n",
    "count = 0\n",
    "for row in sheet.iter_rows():\n",
    "    print([ cell.value for cell in row])\n",
    "    count+=0\n",
    "    if count==10:\n",
    "        break"
   ]
  },
  {
   "cell_type": "code",
   "execution_count": null,
   "metadata": {},
   "outputs": [],
   "source": [
    "# salvando alterações\n",
    "sheet['B10'].value = \"TESTANDO\"\n",
    "\n",
    "# salvar a alteração\n",
    "wb.save(os.path.join(diretorio, arquivo))"
   ]
  },
  {
   "cell_type": "markdown",
   "metadata": {},
   "source": [
    "O estilo ficou com problema. Vamos arrumar"
   ]
  },
  {
   "cell_type": "code",
   "execution_count": null,
   "metadata": {},
   "outputs": [],
   "source": [
    "from copy import copy, deepcopy\n",
    "\n",
    "# copia o estilo\n",
    "celula = sheet['B10']\n",
    "original = sheet['C10']\n",
    "celula._style = copy(original._style)\n",
    "\n",
    "# salvar a alteração\n",
    "wb.save(os.path.join(diretorio, arquivo))"
   ]
  },
  {
   "cell_type": "markdown",
   "metadata": {},
   "source": [
    "### Pandas\n",
    "Esta biblioteca é realmente a melhor que existe se você quiser fazer contas entre excel. EXCELENTE para análise de dados."
   ]
  },
  {
   "cell_type": "code",
   "execution_count": null,
   "metadata": {},
   "outputs": [],
   "source": [
    "! pip install xlrd"
   ]
  },
  {
   "cell_type": "code",
   "execution_count": null,
   "metadata": {},
   "outputs": [],
   "source": [
    "import pandas as pd"
   ]
  },
  {
   "cell_type": "code",
   "execution_count": null,
   "metadata": {},
   "outputs": [],
   "source": [
    "arquivo = 'alunos_turma.xlsx'\n",
    "arquivo = os.path.join(diretorio, arquivo)\n",
    "df = pd.read_excel(arquivo, sheet_name='QtdeAlunos')"
   ]
  },
  {
   "cell_type": "code",
   "execution_count": null,
   "metadata": {},
   "outputs": [],
   "source": [
    "df"
   ]
  },
  {
   "cell_type": "code",
   "execution_count": null,
   "metadata": {},
   "outputs": [],
   "source": [
    "# média de alunos por turma\n",
    "df['quantidade de alunos'].mean()"
   ]
  },
  {
   "cell_type": "code",
   "execution_count": null,
   "metadata": {},
   "outputs": [],
   "source": [
    "# média de alunos por turma e por produto\n",
    "df.groupby('produto')['quantidade de alunos'].mean()"
   ]
  },
  {
   "cell_type": "code",
   "execution_count": null,
   "metadata": {},
   "outputs": [],
   "source": [
    "# carregando a aba de professores\n",
    "df_prof = pd.read_excel(arquivo, sheet_name='Professores')\n",
    "df_prof"
   ]
  },
  {
   "cell_type": "code",
   "execution_count": null,
   "metadata": {},
   "outputs": [],
   "source": [
    "# cruzando as abas(PROCV ou VLOOKUP) \n",
    "tabela_completa = pd.merge(df, df_prof)\n",
    "tabela_completa"
   ]
  },
  {
   "cell_type": "code",
   "execution_count": null,
   "metadata": {},
   "outputs": [],
   "source": [
    "# buscando somente algumas colunas\n",
    "tabela_completa[['data', 'Nome Professor']]"
   ]
  },
  {
   "cell_type": "code",
   "execution_count": null,
   "metadata": {},
   "outputs": [],
   "source": [
    "# alterando o valor da quantidade de alunos para a linha 0\n",
    "tabela_completa.iloc[0,3] = 15\n",
    "tabela_completa"
   ]
  },
  {
   "cell_type": "code",
   "execution_count": null,
   "metadata": {},
   "outputs": [],
   "source": [
    "# passar linha a linha\n",
    "for linha in tabela_completa.iterrows():\n",
    "    print(\"Id da linha: {}\".format(linha[0]))\n",
    "    print(\"Id da linha dados:\\n{}\".format(linha[1]))"
   ]
  },
  {
   "cell_type": "code",
   "execution_count": null,
   "metadata": {},
   "outputs": [],
   "source": [
    "# acessando um campo da linha\n",
    "dados = linha[1]\n",
    "dados['data'], dados['produto']"
   ]
  },
  {
   "cell_type": "markdown",
   "metadata": {},
   "source": [
    "O Pandas é realmente algo fora de série. Neste [post](https://paulovasconcellos.com.br/28-comandos-%C3%BAteis-de-pandas-que-talvez-voc%C3%AA-n%C3%A3o-conhe%C3%A7a-6ab64beefa93) você pode ver algumas dicas de como usar a biblioteca.\n",
    "\n",
    "Também existem muitos tutoriais na internet. Entre eles:\n",
    "\n",
    "- [PandasTour](https://nbviewer.jupyter.org/gist/wesm/4757075/PandasTour.ipynb)\n",
    "- [Análise estatística com Pandas](https://github.com/fonnesbeck/statistical-analysis-python-tutorial)\n",
    "- [Gráficos Simples](https://pbpython.com/simple-graphing-pandas.html)\n",
    "- [Automatizando a tarefa repetitiva de MSOffice](https://ep2018.europython.eu/media/conference/slides/the-boring-python-office-talk-automate-powerpoint-excel-and-pdf-with-python.pdf)"
   ]
  },
  {
   "cell_type": "markdown",
   "metadata": {},
   "source": [
    "### PowerPoint\n",
    "Podemos também criar e alterar Power Points com o Python. Seguem abaixo alguns exemplos "
   ]
  },
  {
   "cell_type": "code",
   "execution_count": null,
   "metadata": {},
   "outputs": [],
   "source": [
    "# instala a biblioteca do python para manipular Power Point\n",
    "!pip install python-pptx"
   ]
  },
  {
   "cell_type": "code",
   "execution_count": null,
   "metadata": {},
   "outputs": [],
   "source": [
    "from pptx import Presentation\n",
    "\n",
    "# abrindo um ppt que já existe\n",
    "arquivo = 'ApresentaçãoExemplo.pptx'\n",
    "arquivo = os.path.join(diretorio, arquivo)\n",
    "arquivo_saida = os.path.join(diretorio, 'Modelo.pptx')\n",
    "ppt = Presentation(arquivo)\n",
    "ppt"
   ]
  },
  {
   "cell_type": "code",
   "execution_count": null,
   "metadata": {},
   "outputs": [],
   "source": [
    "def analizarPPT(input, output):\n",
    "    \"\"\" \n",
    "    Fonte: https://pbpython.com/creating-powerpoint.html\n",
    "    Lê um powerpoint e pega os layouts mestres, gerando um novo ppt que mostrará os nomes e títulos do layout mestre\n",
    "    \"\"\"\n",
    "    prs = Presentation(input)\n",
    "    # para cada um dos slides\n",
    "    for index, _ in enumerate(prs.slide_layouts):\n",
    "        # adiciona na nova apresentação um slide igual ao layout\n",
    "        layout = prs.slide_layouts[index]\n",
    "        print(layout.name)\n",
    "        slide = prs.slides.add_slide(layout)\n",
    "\n",
    "        # verifica se para o controle (shape) existe um título\n",
    "        try:\n",
    "            title = slide.shapes.title\n",
    "            title.text = 'Title for Layout {}'.format(index)\n",
    "        except AttributeError:\n",
    "            print(\"No Title for Layout {}\".format(index))\n",
    "            \n",
    "        # para cada um dos controles\n",
    "        for shape in slide.placeholders:\n",
    "            # se for um placeholder\n",
    "            if shape.is_placeholder:\n",
    "                phf = shape.placeholder_format\n",
    "                # nao apaga o titulo caso ele exista\n",
    "                try:\n",
    "                    if 'Title' not in shape.text:\n",
    "                        shape.text = 'Placeholder index:{} type:{}'.format(phf.idx, shape.name)\n",
    "                except AttributeError:\n",
    "                    print(\"{} has no text attribute\".format(phf.type))\n",
    "                print('{} {}'.format(phf.idx, shape.name))\n",
    "    prs.save(output)\n",
    "analizarPPT(arquivo, arquivo_saida)"
   ]
  },
  {
   "cell_type": "code",
   "execution_count": null,
   "metadata": {},
   "outputs": [],
   "source": [
    "def buscarComentarios(input):\n",
    "    \"\"\"\n",
    "    Busca todos os comentarios da apresentacao\n",
    "    \"\"\"\n",
    "    prs = Presentation(input)\n",
    "    for i, slide in enumerate(prs.slides):\n",
    "        # imprime o comentário\n",
    "        if slide.has_notes_slide:\n",
    "            comentario = slide.notes_slide.notes_text_frame\n",
    "            print(\"Notas do slide {}: {}\".format(i, comentario.text))\n",
    "buscarComentarios(arquivo)"
   ]
  },
  {
   "cell_type": "code",
   "execution_count": null,
   "metadata": {},
   "outputs": [],
   "source": [
    "# adicionando uma figura no slide novo\n",
    "ppt = Presentation(arquivo)\n",
    "slide = ppt.slides.add_slide(ppt.slide_layouts[-1])"
   ]
  },
  {
   "cell_type": "code",
   "execution_count": null,
   "metadata": {},
   "outputs": [],
   "source": [
    "# pega o placeholder (o local reservado) para a imagem\n",
    "for ph in slide.placeholders:\n",
    "    print(ph)\n",
    "foto = list(slide.placeholders)[1]\n",
    "\n",
    "# coloca um titulo\n",
    "titulo = list(slide.placeholders)[0]\n",
    "titulo.text = 'Agora este slide ficou lindão'"
   ]
  },
  {
   "cell_type": "code",
   "execution_count": null,
   "metadata": {},
   "outputs": [],
   "source": [
    "%matplotlib inline\n",
    "nome_figura = os.path.join(diretorio, 'grafico.png')\n",
    "\n",
    "# cria uma figura para adicionar (vinda do exemplo do Python)\n",
    "ax = df.groupby('produto')['quantidade de alunos'].mean().plot(kind='bar', title='Numero de alunos por produto')\n",
    "fig = ax.get_figure()\n",
    "fig.savefig(nome_figura)\n",
    "\n",
    "# adiciona no placeholder\n",
    "foto.insert_picture(nome_figura)\n",
    "ppt.save(arquivo)"
   ]
  },
  {
   "cell_type": "markdown",
   "metadata": {},
   "source": [
    "Abaixo algumas referências interessantes:\n",
    "\n",
    "- [Criando um modelo através de uma apresentação](https://pbpython.com/creating-powerpoint.html)\n"
   ]
  },
  {
   "cell_type": "code",
   "execution_count": null,
   "metadata": {},
   "outputs": [],
   "source": []
  }
 ],
 "metadata": {
  "kernelspec": {
   "display_name": "Python 3",
   "language": "python",
   "name": "python3"
  },
  "language_info": {
   "codemirror_mode": {
    "name": "ipython",
    "version": 3
   },
   "file_extension": ".py",
   "mimetype": "text/x-python",
   "name": "python",
   "nbconvert_exporter": "python",
   "pygments_lexer": "ipython3",
   "version": "3.6.8"
  }
 },
 "nbformat": 4,
 "nbformat_minor": 2
}
