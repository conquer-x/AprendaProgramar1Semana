{
 "cells": [
  {
   "cell_type": "markdown",
   "metadata": {},
   "source": [
    "## Sobre o notebook"
   ]
  },
  {
   "cell_type": "markdown",
   "metadata": {},
   "source": [
    "Este é um Jupyter Notebook. É uma ferramenta importante para poder trabalhar com o Python e desenvolver aplicações. Entre as vantagens do notebook estão:\n",
    "\n",
    "- todas as variáveis são mantidas enquando o \"Kernel\" (este notebook) estiver ligado\n",
    "- completa o seu código, quando você começar a escrever e apertar a tecla &#60;TAB&#62;\n",
    "- pode-se rodar códigos em células, faciliando o teste e o desenvolvimento de pequenas melhorias \n",
    "- interface que pode misturar código, comentário, HTML, controles interativos, imagens, etc\n",
    "- o código pode ser compartilhado usando o arquivo do Notebook ou ainda criando um arquivo python somente\n",
    "\n",
    "\n",
    "Para cada célula, se pode mudar o tipo e assim dizer ao notebook se a célula é um código ou uma anotação (entre outras)"
   ]
  },
  {
   "cell_type": "markdown",
   "metadata": {},
   "source": [
    "## Básico do Python\n",
    "\n",
    "`#` é usado para comentário. É ignorado pelo Python."
   ]
  },
  {
   "cell_type": "markdown",
   "metadata": {},
   "source": [
    "### Ajuda Oficial\n",
    "https://docs.python.org/3/"
   ]
  },
  {
   "cell_type": "markdown",
   "metadata": {},
   "source": [
    "#### Pulo do Gato\n",
    "\n",
    "use [este site](http://www.google.com)"
   ]
  },
  {
   "cell_type": "markdown",
   "metadata": {},
   "source": [
    "### Exercício\n",
    "\n",
    "Adicione uma célula abaixo. Nela escreva o seguinte código:\n",
    "\n",
    "``` python\n",
    "meu_nome = 'SEU NOME AQUI'\n",
    "\n",
    "print(\"Este é o valor da \" + meu_nome)\n",
    "```\n",
    "\n",
    "Agora execute a célula"
   ]
  },
  {
   "cell_type": "markdown",
   "metadata": {},
   "source": [
    "Repare que a célula acima possui um número aos seu lado `In[]`. Isto significa que ele foi rodado. Ele também é a ordem que cada célula foi rodada.\n",
    "\n",
    "Também repare que abaixo da célula, existe um `Out[]`. Esta é a saída da sua célula. Variáveis quando são a última linha da célula vao ser printadas na tela automaticamente."
   ]
  },
  {
   "cell_type": "code",
   "execution_count": null,
   "metadata": {},
   "outputs": [],
   "source": [
    "minha_variavel = \"valor da variável é um texto\"\n",
    "minha_variavel"
   ]
  },
  {
   "cell_type": "markdown",
   "metadata": {},
   "source": [
    "## Você no próximo dia\n",
    "![gatolouco](imagens/gatoloco.gif)"
   ]
  },
  {
   "cell_type": "markdown",
   "metadata": {},
   "source": [
    "### Identacao\n",
    "O Codigo tem que ser arrumado (identado) com tabs para que seja reconhecido. Os loops e ifs sao definidos com :"
   ]
  },
  {
   "cell_type": "code",
   "execution_count": null,
   "metadata": {},
   "outputs": [],
   "source": [
    "texto = \"meu teste\"\n",
    "\n",
    "print(\"A minha variável texto tem o valor {}\".format(texto))\n",
    "\n",
    "# loops (laço). Repare na construcao com : e tabs\n",
    "for ch in texto:\n",
    "    # dentro do for\n",
    "    print(ch)\n",
    "    \n",
    "    if ch==\"t\":\n",
    "        # dentro do if\n",
    "        print(\"esta letra é T\")\n",
    "        \n",
    "print(\"Este comando está fora do for\")\n"
   ]
  },
  {
   "cell_type": "markdown",
   "metadata": {},
   "source": [
    "Muito mais fácil que isto o Portugol:"
   ]
  },
  {
   "cell_type": "code",
   "execution_count": null,
   "metadata": {
    "collapsed": true
   },
   "outputs": [],
   "source": [
    "texto = \"meu teste\"\n",
    "\n",
    "# loops (laço). Repare na construcao com : e tabs\n",
    "for ch in texto {\n",
    "# dentro do for\n",
    "print(ch)\n",
    "if ch==\"t\"{\n",
    "# dentro do if\n",
    "print(\"esta letra é T\")\n",
    "}\n",
    "}"
   ]
  }
 ],
 "metadata": {
  "anaconda-cloud": {},
  "kernelspec": {
   "display_name": "Python 3",
   "language": "python",
   "name": "python3"
  },
  "language_info": {
   "codemirror_mode": {
    "name": "ipython",
    "version": 3
   },
   "file_extension": ".py",
   "mimetype": "text/x-python",
   "name": "python",
   "nbconvert_exporter": "python",
   "pygments_lexer": "ipython3",
   "version": "3.6.2"
  }
 },
 "nbformat": 4,
 "nbformat_minor": 2
}
