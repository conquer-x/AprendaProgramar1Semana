{
 "cells": [
  {
   "cell_type": "markdown",
   "metadata": {},
   "source": [
    "O termo correto para estas variáveis não é \"memória\" mas facilita se pensarmos que de alguma maneira elas são. As estruturas (corretamente, classes) abaixo são consideradas primárias no Python. Isso quer dizer que o Python padrão as usa como sendo parte de si.\n",
    "\n",
    "Colocamos como memória pois são maneiras de se guardar e trabalhar dados. Mais ou menos como uma memória o faz."
   ]
  },
  {
   "cell_type": "markdown",
   "metadata": {},
   "source": [
    "# Listas"
   ]
  },
  {
   "cell_type": "markdown",
   "metadata": {},
   "source": [
    "Listas são criadas usando **[ ]**. Podem ou não ser inicializadas (carregadas) com valores."
   ]
  },
  {
   "cell_type": "markdown",
   "metadata": {},
   "source": [
    "### Básico"
   ]
  },
  {
   "cell_type": "code",
   "execution_count": null,
   "metadata": {},
   "outputs": [],
   "source": [
    "# inicia uma lista vazia\n",
    "lista = []\n",
    "\n",
    "# agora com conteúdo dentro\n",
    "lista_cheia = [1, 2, 3]\n",
    "\n",
    "# agora cheia com tipos misturados\n",
    "lista_misturada = [1, \"texto no meio\", 4.0]\n",
    "\n",
    "# agora com lista dentro de lista\n",
    "lista_a_origem = [[1,2], [4,5], [1, 2, 3]]\n",
    "\n",
    "# imprimindo o tipo\n",
    "print(type(lista), type(lista_cheia), type(lista_misturada), type(lista_a_origem))"
   ]
  },
  {
   "cell_type": "code",
   "execution_count": null,
   "metadata": {},
   "outputs": [],
   "source": [
    "# acessando valores. Apenas coloque o número do local que quer extrair informação. A lista começa em 0 e não 1\n",
    "print(\"Valor do 0: \" + str(lista_cheia[0]))\n",
    "print(\"Valor do 1: \" + str(lista_cheia[1]))"
   ]
  },
  {
   "cell_type": "code",
   "execution_count": null,
   "metadata": {},
   "outputs": [],
   "source": [
    "# posso acessar cada elemento com um loop\n",
    "for elemento in lista_cheia:\n",
    "    print(\"Valor: {}\".format(elemento))\n",
    "    \n",
    "# também podemos acessar usando um index\n",
    "for i in range(len(lista_cheia)):\n",
    "    print(\"Index: {}\\tValor: {}\".format(i, lista_cheia[i]))"
   ]
  },
  {
   "cell_type": "code",
   "execution_count": null,
   "metadata": {},
   "outputs": [],
   "source": [
    "# verificando se um elemento está na lista\n",
    "print(\"2 in lista_cheia: {}\".format(2 in lista_cheia))\n",
    "print(\"1000 in lista_cheia: {}\".format(1000 in lista_cheia))"
   ]
  },
  {
   "cell_type": "markdown",
   "metadata": {},
   "source": [
    "### Alterando a lista"
   ]
  },
  {
   "cell_type": "code",
   "execution_count": null,
   "metadata": {},
   "outputs": [],
   "source": [
    "# posso alterar somente um valor\n",
    "lista_cheia[0] = 19999\n",
    "print(lista_cheia)"
   ]
  },
  {
   "cell_type": "code",
   "execution_count": null,
   "metadata": {},
   "outputs": [],
   "source": [
    "# \"colar listas\", com +. Não altera a lista original (lista_cheia no exemplo)\n",
    "novo_pedaco = [68, 68, 67]\n",
    "nova_lista = lista_cheia + novo_pedaco\n",
    "print(nova_lista)\n",
    "\n",
    "# o comando extend altera a lista original\n",
    "lista_cheia.extend(novo_pedaco)\n",
    "lista_cheia"
   ]
  },
  {
   "cell_type": "code",
   "execution_count": null,
   "metadata": {},
   "outputs": [],
   "source": [
    "# remove o primeiro elemento somente\n",
    "lista_cheia.remove(68)\n",
    "lista_cheia"
   ]
  },
  {
   "cell_type": "markdown",
   "metadata": {},
   "source": [
    "### Slice (fatia da lista)\n",
    "Podemos usar somente um pedaço da lista."
   ]
  },
  {
   "cell_type": "code",
   "execution_count": null,
   "metadata": {},
   "outputs": [],
   "source": [
    "lista_cheia"
   ]
  },
  {
   "cell_type": "code",
   "execution_count": null,
   "metadata": {},
   "outputs": [],
   "source": [
    "# do começo e indo até um ponto\n",
    "print(\"Do inicio até um ponto: \\t{}\".format(lista_cheia[:3]))\n",
    "\n",
    "# comecando de um ponto e indo até o fim\n",
    "print(\"De um ponto até o fim: \\t\\t{}\".format(lista_cheia[3:]))\n",
    "\n",
    "# De um meio até um ponto antes do fim\n",
    "print(\"De um ponto do meio até o meio do fim: {}\".format(lista_cheia[3:4]))\n",
    "\n",
    "# até um ponto do fim, usando o fim como referência\n",
    "print(\"Do começo até 3 antes do fim \\t{}\".format(lista_cheia[:-3]))\n"
   ]
  },
  {
   "cell_type": "markdown",
   "metadata": {},
   "source": [
    "### Alterando a Ordem\n",
    "existem alguns métodos que alteram a ordem"
   ]
  },
  {
   "cell_type": "code",
   "execution_count": null,
   "metadata": {},
   "outputs": [],
   "source": [
    "# altera a ordem da lista original\n",
    "lista_cheia.reverse()\n",
    "print(\"Lista ao contrário: \\t{}\".format(lista_cheia))\n",
    "# altera a ordem da lista original\n",
    "lista_cheia.sort()\n",
    "print(\"Lista ordenada: \\t{}\".format(lista_cheia))\n",
    "lista_cheia.reverse()\n",
    "print(\"Lista ordenada: \\t{}\".format(sorted(lista_cheia)))"
   ]
  },
  {
   "cell_type": "markdown",
   "metadata": {},
   "source": [
    "#### Pulo do Gato"
   ]
  },
  {
   "cell_type": "code",
   "execution_count": null,
   "metadata": {},
   "outputs": [],
   "source": [
    "# nao se pode fazer operaçoes matemáticas diretamente nos elementos\n",
    "lista_cheia - 5"
   ]
  },
  {
   "cell_type": "code",
   "execution_count": null,
   "metadata": {},
   "outputs": [],
   "source": [
    "# mas algumas operacoes funcionam\n",
    "print(\"Soma dos elementos: \\t{}\".format(sum(lista_cheia)))\n",
    "\n",
    "# altera elemento a elemento\n",
    "print(\"lista sem soma: \\t{}\".format(lista_cheia))\n",
    "lista_somada = list(map(lambda x: x+5, lista_cheia))\n",
    "print(\"lista com soma: \\t{}\".format(lista_somada))\n"
   ]
  },
  {
   "cell_type": "markdown",
   "metadata": {},
   "source": [
    "# Dicionários\n",
    "\n",
    "Usamos o **{}** para criar um dicionáro."
   ]
  },
  {
   "cell_type": "code",
   "execution_count": null,
   "metadata": {},
   "outputs": [],
   "source": [
    "# duas maneiras de criar dicionários\n",
    "dict1 = {'chave1': 1.6, 'chave2': 10, 'chave3': 'Joao'}\n",
    "dict2 = dict(chave1=1.6, chave2=10, chave3='Joao')\n",
    "\n",
    "print(dict1)\n",
    "print(dict2)\n",
    "\n",
    "print('Iguais: {}'.format(dict1 == dict2))\n",
    "print('Extensão (numero de chaves): {}'.format(len(dict1)))"
   ]
  },
  {
   "cell_type": "code",
   "execution_count": null,
   "metadata": {},
   "outputs": [],
   "source": [
    "# com dict, nao se pode usar chaves de número\n",
    "dict3 = dict(chave1=1.6, chave2=10, 1232='Joao')"
   ]
  },
  {
   "cell_type": "code",
   "execution_count": null,
   "metadata": {},
   "outputs": [],
   "source": [
    "# com a chave pode\n",
    "dict4 = {'chave1': 1.6, 'chave2': 10, 1232: 'Joao'}\n",
    "dict4"
   ]
  },
  {
   "cell_type": "code",
   "execution_count": null,
   "metadata": {},
   "outputs": [],
   "source": [
    "# elementos de um dicionário\n",
    "dict1.keys(), dict1.values(), dict1.items()"
   ]
  },
  {
   "cell_type": "code",
   "execution_count": null,
   "metadata": {},
   "outputs": [],
   "source": [
    "# adicionando valores\n",
    "dicionario = {}\n",
    "dicionario['chave1'] = 'valor original'\n",
    "dicionario['chave2'] = 99\n",
    "print(dicionario)\n",
    "\n",
    "# alterando o valor\n",
    "dicionario['chave1'] = 'novo valor' \n",
    "print(dicionario)\n",
    "print('Valor da chave1: {}'.format(dicionario['chave1']))"
   ]
  },
  {
   "cell_type": "code",
   "execution_count": null,
   "metadata": {},
   "outputs": [],
   "source": [
    "# apagando uma chave\n",
    "del(dicionario['chave2'])\n",
    "dicionario"
   ]
  },
  {
   "cell_type": "code",
   "execution_count": null,
   "metadata": {},
   "outputs": [],
   "source": [
    "dicionario.pop('chave1')\n",
    "print(\"Bye Bye chave1: \\t{}\".format(dicionario))"
   ]
  },
  {
   "cell_type": "markdown",
   "metadata": {},
   "source": [
    "#### Pulo do Gato"
   ]
  },
  {
   "cell_type": "code",
   "execution_count": null,
   "metadata": {},
   "outputs": [],
   "source": [
    "# acesse esta chave\n",
    "dicionario['chave3']"
   ]
  },
  {
   "cell_type": "code",
   "execution_count": null,
   "metadata": {},
   "outputs": [],
   "source": [
    "# jeito seguro\n",
    "dicionario.get('chave3', None)"
   ]
  },
  {
   "cell_type": "code",
   "execution_count": null,
   "metadata": {},
   "outputs": [],
   "source": [
    "# mais um jeito, definindo uma chave padrao\n",
    "my_dict = {'a': 1, 'b': 2, 'c': 3}\n",
    "a = my_dict.setdefault('a', 'my default value')\n",
    "d = my_dict.setdefault('d', 'my default value')\n",
    "print('a: {}\\nd: {}\\nmy_dict: {}'.format(a, d, my_dict))"
   ]
  },
  {
   "cell_type": "code",
   "execution_count": null,
   "metadata": {},
   "outputs": [],
   "source": [
    "# quando novos dicionarios são referenciados\n",
    "dicionario_copia =  dicionario\n",
    "print(\"Dicionario copia: \\t\\t\\t{}\".format(dicionario_copia))\n",
    "dicionario['chave2'] = 'nova chave'\n",
    "print(\"Dicionario copia alterado o original: \\t{}\".format(dicionario_copia))\n",
    "\n",
    "# se quiser ser independente, tem que fazer uma cópia\n",
    "dicionario_copia =  dict(dicionario)\n",
    "print(\"Dicionario copia com *dict*: \\t\\t{}\".format(dicionario_copia))\n",
    "dicionario['chave3'] = 'nova chave'\n",
    "print(\"Dicionario copia alterado o original: \\t{}\".format(dicionario_copia))\n",
    "print(\"Novo dicionario original: \\t\\t{}\".format(dicionario))"
   ]
  },
  {
   "cell_type": "markdown",
   "metadata": {},
   "source": [
    "# Tuples (tuplas)\n",
    "Tuplas são conjunto de valores que não podem ser alterados depois de criados. São usados principalmente no retorno de funcções"
   ]
  },
  {
   "cell_type": "code",
   "execution_count": null,
   "metadata": {},
   "outputs": [],
   "source": [
    "tupla1 = (1,2,3)\n",
    "tupla2 = (4,5,[100,200])\n",
    "print(tupla1, tupla2)"
   ]
  },
  {
   "cell_type": "code",
   "execution_count": null,
   "metadata": {},
   "outputs": [],
   "source": [
    "# Acessando um valor\n",
    "print(\"Acessando o segundo valor da tupla1 (index 1, começa no 0, lembra???)\\t {}\".format(tupla1[1]))"
   ]
  },
  {
   "cell_type": "code",
   "execution_count": null,
   "metadata": {},
   "outputs": [],
   "source": [
    "# alterando um valor\n",
    "tupla1[1] = 2"
   ]
  },
  {
   "cell_type": "markdown",
   "metadata": {},
   "source": [
    "#### Pulo do Gato"
   ]
  },
  {
   "cell_type": "code",
   "execution_count": null,
   "metadata": {},
   "outputs": [],
   "source": [
    "# tuplas são mais usadas como retorno de funções \n",
    "def minha_pequena_funcao_magica():\n",
    "    return 1,2,3,4,5\n",
    "\n",
    "retorno = minha_pequena_funcao_magica()\n",
    "retorno"
   ]
  },
  {
   "cell_type": "code",
   "execution_count": null,
   "metadata": {},
   "outputs": [],
   "source": [
    "# pode-se fazer o unpacking (desempacotamento) das tuplas em variáveis\n",
    "v1, v2, v3, v4, v5 = minha_pequena_funcao_magica()"
   ]
  },
  {
   "cell_type": "code",
   "execution_count": null,
   "metadata": {},
   "outputs": [],
   "source": [
    "# mas se tiver o numero errado de variáveis\n",
    "v1, v2, v3, v4 = minha_pequena_funcao_magica()"
   ]
  },
  {
   "cell_type": "code",
   "execution_count": null,
   "metadata": {},
   "outputs": [],
   "source": [
    "# ignorando os ultimos valores\n",
    "v1, v2, v3, _, _ = minha_pequena_funcao_magica()\n",
    "v1,v2, v3"
   ]
  },
  {
   "cell_type": "markdown",
   "metadata": {},
   "source": [
    "# Sets (conjuntos)\n",
    "Como um conjunto de dados, podemos fazer cruzamento entre eles"
   ]
  },
  {
   "cell_type": "code",
   "execution_count": null,
   "metadata": {},
   "outputs": [],
   "source": [
    "set1 = set([1,2,2,2,3,4,5,6,7])\n",
    "set2 = set([34, 5454, 1, 3])\n",
    "\n",
    "print(\"set1, sumiu com os duplicados: \\t{}\".format(set1))\n",
    "print(\"set2, não ordenou: \\t{}\".format(set2))"
   ]
  },
  {
   "cell_type": "code",
   "execution_count": null,
   "metadata": {},
   "outputs": [],
   "source": [
    "# números em comum\n",
    "print(\"Unindo: \\t{}\".format(set1|set2))\n",
    "print(\"Em comum: \\t{}\".format(set1&set2))\n",
    "print(\"Diferença: \\t{}\".format(set1-set2))"
   ]
  }
 ],
 "metadata": {
  "kernelspec": {
   "display_name": "py36",
   "language": "python",
   "name": "py36"
  },
  "language_info": {
   "codemirror_mode": {
    "name": "ipython",
    "version": 3
   },
   "file_extension": ".py",
   "mimetype": "text/x-python",
   "name": "python",
   "nbconvert_exporter": "python",
   "pygments_lexer": "ipython3",
   "version": "3.6.8"
  }
 },
 "nbformat": 4,
 "nbformat_minor": 2
}
