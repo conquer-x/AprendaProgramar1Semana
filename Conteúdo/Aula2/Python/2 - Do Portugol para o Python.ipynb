{
 "cells": [
  {
   "cell_type": "markdown",
   "metadata": {},
   "source": [
    "## Portugol para o Python\n",
    "\n",
    "A conversão de portugol ou da lógica para Python é bem simples. Muitas das vezes é realmente apenas uma tradução do português para o Inglês.\n",
    "\n",
    "A seguir algumas das principais partes. Antes será colocado o que seria o código em PORTUGOL e depois o código em `\n",
    "Python`"
   ]
  },
  {
   "cell_type": "markdown",
   "metadata": {},
   "source": [
    "## 1 Variáveis\n",
    "\n",
    "### 1.1 Exemplo em Python\n",
    "Abaixo apresentamos alguns tipos de uso de variáveis. **EXECUTE** cada uma das células para verificar o seu retorno. **Leia** o comentário pois ele irá lhe dar o exemplo e imprimirá uma saída."
   ]
  },
  {
   "cell_type": "code",
   "execution_count": null,
   "metadata": {},
   "outputs": [],
   "source": [
    "# defina variaveis diretamente com os valores\n",
    "inteiro = 1\n",
    "fracionario = 1.0\n",
    "\n",
    "# imprime o resultado\n",
    "print(\"Tipo do inteiro {}\".format(type(inteiro)))\n",
    "print(\"Tipo do fracionário {}\".format(type(fracionario)))"
   ]
  },
  {
   "cell_type": "code",
   "execution_count": null,
   "metadata": {},
   "outputs": [],
   "source": [
    "# ao assinalar um novo valor, a variável terá um novo valor e neste caso um novo tipo\n",
    "fracionario = 1\n",
    "\n",
    "\n",
    "# imprime o resultado\n",
    "print(\"Tipo do fracionário {}\".format(type(fracionario)))"
   ]
  },
  {
   "cell_type": "code",
   "execution_count": null,
   "metadata": {},
   "outputs": [],
   "source": [
    "# somatória e soma são como calculadora\n",
    "mais = 1+5\n",
    "menos = 1-5\n",
    "dividido_inteiro = 1/5\n",
    "dividido_real = mais/menos\n",
    "multiplicacao = 5*mais\n",
    "\n",
    "# imprime o resultado\n",
    "print(\"Valor das variáveis:\\nmais: {}\\nmenos: {}\\ndividido_inteiro: {}\\ndividido_real: {}\\nmultiplicacao: {}\".format(\n",
    "    mais,\n",
    "    menos,\n",
    "    dividido_inteiro,\n",
    "    dividido_real,\n",
    "    multiplicacao))"
   ]
  },
  {
   "cell_type": "code",
   "execution_count": null,
   "metadata": {},
   "outputs": [],
   "source": [
    "# pode-se fazer ainda uma soma, subtração, etc na mesma variável\n",
    "resultado = 1\n",
    "resultado += 5\n",
    "print(resultado)\n",
    "resultado -= 4\n",
    "print(resultado)"
   ]
  },
  {
   "cell_type": "code",
   "execution_count": null,
   "metadata": {},
   "outputs": [],
   "source": [
    "# variáveis do tipo texto são chamadas de Strings\n",
    "texto = \"este é um texto\"\n",
    "print(type(texto))"
   ]
  },
  {
   "cell_type": "code",
   "execution_count": null,
   "metadata": {},
   "outputs": [],
   "source": [
    "# strings podem ser definidas com ' , \" ou \"\"\" \n",
    "texto = \"texto com aspas duplas podem usar aspas 'simples'\"\n",
    "print(texto)\n",
    "\n",
    "texto = 'texto com aspas duplas podem usar aspas \"simples\"'\n",
    "print(texto)\n",
    "\n",
    "texto_louco = \"\"\"\n",
    "com aspas triplas posso fazer o que quiser\n",
    "dar novas 'linhas' \n",
    "\n",
    "ou usar aspas duplas \"também\"\n",
    "\n",
    "tabs\n",
    "etc.\n",
    "\n",
    "\"\"\"\n",
    "print(texto_louco)"
   ]
  },
  {
   "cell_type": "code",
   "execution_count": null,
   "metadata": {},
   "outputs": [],
   "source": [
    "# como inteiro para string\n",
    "inteiro = 45\n",
    "convertido_texto = str(inteiro)\n",
    "\n",
    "# string para inteiro\n",
    "numero_escrito = '456'\n",
    "convertido_inteiro = int(numero_escrito)\n",
    "\n",
    "print(\"Tipo da variável convertido_texto {}\".format(type(convertido_texto)))\n",
    "print(\"Tipo da variável numero_escrito {}\".format(type(convertido_inteiro)))"
   ]
  },
  {
   "cell_type": "markdown",
   "metadata": {},
   "source": [
    "### 1.2 Portugol\n",
    "Abaixo apresentamos o código em ***PORTUGOL*** conforme a atividade que realizamos de jogo de sete erros.\n",
    "\n",
    "```\n",
    "inteiro idadeUsuario\n",
    "real altura\n",
    "cadeia nomeAluno\n",
    "logico luzLigada\n",
    "\n",
    "idadeUsuario = 35\n",
    "altura = 1,86\n",
    "nomeAluno = \"Este é o meu nome\"\n",
    "luzLigada = verdadeiro\n",
    "```\n"
   ]
  },
  {
   "cell_type": "markdown",
   "metadata": {},
   "source": [
    "### 1.3 Portugol para Python\n",
    "Agora converta o **código acima** &uarr; para o Python usando a sintaxe demonstrada no ponto X.1 ou da Cheat Sheet (cola)\n"
   ]
  },
  {
   "cell_type": "code",
   "execution_count": null,
   "metadata": {
    "collapsed": true
   },
   "outputs": [],
   "source": [
    "# coloque seu código aqui!"
   ]
  },
  {
   "cell_type": "markdown",
   "metadata": {},
   "source": [
    "## 2 Entradas e Saídas\n",
    "\n",
    "### 2.1 Exemplo em Python\n",
    "Abaixo apresentamos alguns tipos de uso de variáveis. **EXECUTE** cada uma das células para verificar o seu retorno. **Leia** o comentário pois ele irá lhe dar o exemplo e imprimirá uma saída."
   ]
  },
  {
   "cell_type": "code",
   "execution_count": null,
   "metadata": {},
   "outputs": [],
   "source": [
    "# saída\n",
    "print(\"Esta é uma saída\")"
   ]
  },
  {
   "cell_type": "markdown",
   "metadata": {},
   "source": [
    "o Python converte automaticamente o *valor* de uma variável para string. Para isso, em um texto usar o carimbo **`{}`** \n",
    "no texto para mostrar onde deve ir a variável. Depois da string, chame a função `format()` com a variável como o *parâmetro de entrada* (o que vai dentro do parênteses)."
   ]
  },
  {
   "cell_type": "code",
   "execution_count": null,
   "metadata": {},
   "outputs": [],
   "source": [
    "# variavel\n",
    "minha_variavel = 1\n",
    "\n",
    "# repare abaixo o carimo {} . Na saída, o format vai subsituí-lo pelo valor da variável (1)\n",
    "print(\"Este era o valor da variável 'minha_variavel': {}\".format(minha_variavel))"
   ]
  },
  {
   "cell_type": "code",
   "execution_count": null,
   "metadata": {},
   "outputs": [],
   "source": [
    "# entrada (leitura). Escreva na caixa que abrirá na saída.\n",
    "variavel_lida = input(\"Mensagem para o input\\n\")\n",
    "variavel_lida"
   ]
  },
  {
   "cell_type": "markdown",
   "metadata": {},
   "source": [
    "### 2.2 Portugol\n",
    "Abaixo apresentamos o código em ***PORTUGOL*** conforme a atividade que realizamos de jogo de sete erros.\n",
    "\n",
    "```\n",
    "Escreva\n",
    "\t\t\n",
    "    //Imprime o valor de uma cadeia de texto específica ou de uma variável na tela.\n",
    "\n",
    "    escreva (\"Que nota você da para esta aula?\")\n",
    "\n",
    "    inteiro notaDaAula = 5  \n",
    "    escreva (\"A nota do aluno foi \", notaDaAula)\n",
    "\t\t\n",
    "Leia\n",
    "\n",
    "    //Pede ao usuário que insira um valor em uma variável.\n",
    "\n",
    "    inteiro notaDaAula\n",
    "    escreva (\"Que nota você da para esta aula?\")\n",
    "\n",
    "    leia (notaDaAula)\n",
    "```"
   ]
  },
  {
   "cell_type": "markdown",
   "metadata": {},
   "source": [
    "### 2.3 Portugol para Python\n",
    "Agora converta o **código acima** &uarr; para o Python usando a sintaxe demonstrada no ponto X.1 ou da Cheat Sheet (cola)\n"
   ]
  },
  {
   "cell_type": "code",
   "execution_count": null,
   "metadata": {
    "collapsed": true
   },
   "outputs": [],
   "source": [
    "# coloque o seu código aqui"
   ]
  },
  {
   "cell_type": "markdown",
   "metadata": {},
   "source": [
    "### 3 Operadores Lógicos\n",
    "\n",
    "### 3.1 Exemplo em Python\n",
    "Abaixo apresentamos alguns tipos de uso de variáveis. **EXECUTE** cada uma das células para verificar o seu retorno. **Leia** o comentário pois ele irá lhe dar o exemplo e imprimirá uma saída.\n",
    "\n",
    "Operadores lógicos retornam verdadeiro ou falso (`True` or `False`) e podem ser combinados, retornando mais uma vez **verdadeiro** ou **falso**"
   ]
  },
  {
   "cell_type": "code",
   "execution_count": null,
   "metadata": {
    "collapsed": true
   },
   "outputs": [],
   "source": [
    "a, b, c = 1, 2, 3"
   ]
  },
  {
   "cell_type": "markdown",
   "metadata": {},
   "source": [
    "Antes de executar cada uma das linhas abaixo, tente adivinhar qual será a saída `True` or `False`??"
   ]
  },
  {
   "cell_type": "code",
   "execution_count": null,
   "metadata": {},
   "outputs": [],
   "source": [
    "# True ou False?\n",
    "a>b"
   ]
  },
  {
   "cell_type": "code",
   "execution_count": null,
   "metadata": {},
   "outputs": [],
   "source": [
    "# e este?\n",
    "a<b and b<c"
   ]
  },
  {
   "cell_type": "code",
   "execution_count": null,
   "metadata": {},
   "outputs": [],
   "source": [
    "# True ou False?\n",
    "a<c or b<c"
   ]
  },
  {
   "cell_type": "code",
   "execution_count": null,
   "metadata": {},
   "outputs": [],
   "source": [
    "# True ou False?\n",
    "a>c and b<c"
   ]
  },
  {
   "cell_type": "code",
   "execution_count": null,
   "metadata": {},
   "outputs": [],
   "source": [
    "# e aqu?\n",
    "True and True"
   ]
  },
  {
   "cell_type": "code",
   "execution_count": null,
   "metadata": {},
   "outputs": [],
   "source": [
    "False and True"
   ]
  },
  {
   "cell_type": "code",
   "execution_count": null,
   "metadata": {},
   "outputs": [],
   "source": [
    "False and False"
   ]
  },
  {
   "cell_type": "code",
   "execution_count": null,
   "metadata": {},
   "outputs": [],
   "source": [
    "True or False"
   ]
  },
  {
   "cell_type": "code",
   "execution_count": null,
   "metadata": {},
   "outputs": [],
   "source": [
    "True or True"
   ]
  },
  {
   "cell_type": "code",
   "execution_count": null,
   "metadata": {},
   "outputs": [],
   "source": [
    "False or False"
   ]
  },
  {
   "cell_type": "code",
   "execution_count": null,
   "metadata": {},
   "outputs": [],
   "source": [
    "# verificando se são iguais\n",
    "d = 1\n",
    "a==d"
   ]
  },
  {
   "cell_type": "code",
   "execution_count": null,
   "metadata": {},
   "outputs": [],
   "source": [
    "# verificando se são diferentes. Eles são iguais!!\n",
    "a!=d"
   ]
  },
  {
   "cell_type": "markdown",
   "metadata": {},
   "source": [
    "### 3.2 Portugol\n",
    "Abaixo apresentamos o código em ***PORTUGOL*** conforme a atividade que realizamos de jogo de sete erros.\n",
    "\n",
    "```\n",
    "Maior: >\n",
    "Menor: <\n",
    "Maior ou igual: >=\n",
    "Menor ou igual: <=\n",
    "Igual: ==\n",
    "Diferente: !=\n",
    "\n",
    "// código em portugol\n",
    "inteiro a, b\n",
    "a = 1\n",
    "b = 0\n",
    "escreva(a>b)\n",
    "escreva(\"\\n\")\n",
    "escreva(a==b)\n",
    "escreva(\"\\n\")\n",
    "escreva(a!=b)\n",
    "```"
   ]
  },
  {
   "cell_type": "markdown",
   "metadata": {},
   "source": [
    "### 3.3 Portugol para Python\n",
    "Agora converta o **código acima** &uarr; para o Python usando a sintaxe demonstrada no ponto X.1 ou da Cheat Sheet (cola)\n"
   ]
  },
  {
   "cell_type": "code",
   "execution_count": null,
   "metadata": {
    "collapsed": true
   },
   "outputs": [],
   "source": [
    "# coloque o seu código aqui"
   ]
  },
  {
   "cell_type": "markdown",
   "metadata": {},
   "source": [
    "### 4 Condicionais\n",
    "\n",
    "### 4.1 Exemplo em Python\n",
    "Abaixo apresentamos alguns tipos de uso de variáveis. **EXECUTE** cada uma das células para verificar o seu retorno. **Leia** o comentário pois ele irá lhe dar o exemplo e imprimirá uma saída.\n",
    "\n",
    "Operadores lógicos retornam verdadeiro ou falso (`True` or `False`) e podem ser combinados, retornando mais uma vez **verdadeiro** ou **falso**"
   ]
  },
  {
   "cell_type": "code",
   "execution_count": null,
   "metadata": {},
   "outputs": [],
   "source": [
    "a, b, c = 1, 2, 3\n",
    "\n",
    "# um exemplo de ifs alinhados\n",
    "if(c<a):\n",
    "    print(\"C é menor que A\")\n",
    "elif(b<a): # SENAO\n",
    "    ## senão se é uma maneira de fazer senão e depois um outro se dentro\n",
    "    print(\"B é menor que A e menor C\")\n",
    "else:\n",
    "    print(\"A é menor que B e C\")"
   ]
  },
  {
   "cell_type": "code",
   "execution_count": null,
   "metadata": {},
   "outputs": [],
   "source": [
    "# isto é equivalente ao código acima\n",
    "a, b, c = 1, 2, 3\n",
    "\n",
    "# um exemplo de ifs alinhados\n",
    "if(c<a):\n",
    "    print(\"C é menor que A\")\n",
    "else:\n",
    "    if(b<a):\n",
    "        ## senão se é uma maneira de fazer senão e depois um outro se dentro\n",
    "        print(\"B é menor que A e menor C\")\n",
    "    else:\n",
    "        print(\"A é menor que B e C\")"
   ]
  },
  {
   "cell_type": "markdown",
   "metadata": {},
   "source": [
    "### 4.2 Portugol\n",
    "Abaixo apresentamos o código em ***PORTUGOL*** conforme a atividade que realizamos de jogo de sete erros.\n",
    "\n",
    "*Portugol*: \n",
    "\n",
    "``` javascript\n",
    "1_ SE\n",
    "\t\t\n",
    "    - Executa comandos somente se a Operação Relacional for atendida.\n",
    "\n",
    "    inteiro x = 9\n",
    "    inteiro y = 5\n",
    "\n",
    "    se(x > y){\n",
    "        escreva (\"X é maior do que Y\")\n",
    "    }\n",
    "\n",
    "2_ SE SENAO\n",
    "\n",
    "    - Executa um ou mais comandos se a Operação Relacional for atendida, caso contrário executa outro grupo de comandos.\n",
    "\n",
    "    inteiro x = 2\n",
    "    inteiro y = 8\n",
    "\n",
    "    se(x > y){\n",
    "        escreva (\"X é maior do que Y\")\n",
    "    }\n",
    "    senao{\n",
    "        escreva (\"Y é maior do que X\")\n",
    "    }\n",
    "```"
   ]
  },
  {
   "cell_type": "markdown",
   "metadata": {},
   "source": [
    "### 4.3 Portugol para Python\n",
    "Agora converta o **código acima** &uarr; para o Python usando a sintaxe demonstrada no ponto X.1 ou da Cheat Sheet (cola)\n"
   ]
  },
  {
   "cell_type": "code",
   "execution_count": null,
   "metadata": {
    "collapsed": true
   },
   "outputs": [],
   "source": []
  },
  {
   "cell_type": "markdown",
   "metadata": {},
   "source": [
    "### 5 (Laços) de Repetição\n",
    "\n",
    "### 5.1 Exemplo em Python\n",
    "Abaixo apresentamos alguns tipos de uso de variáveis. **EXECUTE** cada uma das células para verificar o seu retorno. **Leia** o comentário pois ele irá lhe dar o exemplo e imprimirá uma saída.\n",
    "\n",
    "Operadores lógicos retornam verdadeiro ou falso (`True` or `False`) e podem ser combinados, retornando mais uma vez **verdadeiro** ou **falso**"
   ]
  },
  {
   "cell_type": "code",
   "execution_count": null,
   "metadata": {},
   "outputs": [],
   "source": [
    "# loops com while (enquanto). Repare que usamos um break para parar o loop\n",
    "cont = 0\n",
    "while True: # faça para sempre (pois sempre teremos true)\n",
    "    print(\"Valor da variável cont: {}\".format(cont))\n",
    "    cont += 1\n",
    "    if cont==3:\n",
    "        break"
   ]
  },
  {
   "cell_type": "code",
   "execution_count": null,
   "metadata": {},
   "outputs": [],
   "source": [
    "# aqui deixamos o próprio while parar quando chegar a 3\n",
    "cont = 0\n",
    "while cont<=3:\n",
    "    print(\"Valor da variável cont: {}\".format(cont))\n",
    "    cont += 1"
   ]
  },
  {
   "cell_type": "code",
   "execution_count": null,
   "metadata": {},
   "outputs": [],
   "source": [
    "# loops com for. Range gera uma lista de 0 a 2\n",
    "for i in range(3):\n",
    "    print(i)"
   ]
  },
  {
   "cell_type": "code",
   "execution_count": null,
   "metadata": {},
   "outputs": [],
   "source": [
    "# podemos ir de elemento em elemento em uma lista. Veremos a frente...\n",
    "valores = [1,10,20]\n",
    "for valor in valores:\n",
    "    print(valor)"
   ]
  },
  {
   "cell_type": "markdown",
   "metadata": {},
   "source": [
    "### 5.2 Portugol\n",
    "Abaixo apresentamos o código em ***PORTUGOL*** conforme a atividade que realizamos de jogo de sete erros.\n",
    "\n",
    "\n",
    "*Portugol*: \n",
    "\n",
    "```\n",
    "1_ ENQUANTO\n",
    "\t\t\t\n",
    "    - Executa comandos enquanto uma Operação Relacional for atendida.\n",
    "\n",
    "    caracter continuarExecutando  \n",
    "    continuarExecutando = 'S'  \n",
    "\n",
    "    enquanto (continuarExecutando == 'S')  \n",
    "    {  \n",
    "        escreva(\"Porgrama executado.\")\n",
    "        escreva (\"Deseja continuar executando? (S/N)\")  \n",
    "        leia (continuarExecutando)\n",
    "    }  \n",
    "\n",
    "2_ PARA\n",
    "\n",
    "    - Define o valor inicial de uma variável e incrementa ela até que uma Condição Relacional não seja mais cumprida.\n",
    "    - Estrutura: para (valor da variável, condição relacional, modo de incremento)\n",
    "\n",
    "    escreva (\"Na contagem de três imprima: OU VAI OU VOA\")\n",
    "    para (inteiro c = 1; c <= 3; c++)  \n",
    "    {  \n",
    "        escreva (c, \"\\n\")\n",
    "\n",
    "        se(c == 3){\n",
    "            escreva (\"OU VAI OU VOA\")\n",
    "        }\n",
    "    }  \n",
    "\n",
    "```"
   ]
  },
  {
   "cell_type": "markdown",
   "metadata": {},
   "source": [
    "### 5.3 Portugol para Python\n",
    "Agora converta o **código acima** &uarr; para o Python usando a sintaxe demonstrada no ponto X.1 ou da Cheat Sheet (cola)"
   ]
  },
  {
   "cell_type": "code",
   "execution_count": null,
   "metadata": {
    "collapsed": true
   },
   "outputs": [],
   "source": []
  }
 ],
 "metadata": {
  "anaconda-cloud": {},
  "kernelspec": {
   "display_name": "Python 3",
   "language": "python",
   "name": "python3"
  },
  "language_info": {
   "codemirror_mode": {
    "name": "ipython",
    "version": 3
   },
   "file_extension": ".py",
   "mimetype": "text/x-python",
   "name": "python",
   "nbconvert_exporter": "python",
   "pygments_lexer": "ipython3",
   "version": "3.6.2"
  }
 },
 "nbformat": 4,
 "nbformat_minor": 2
}
