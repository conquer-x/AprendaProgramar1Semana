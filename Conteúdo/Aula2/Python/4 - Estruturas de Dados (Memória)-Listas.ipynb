{
 "cells": [
  {
   "cell_type": "markdown",
   "metadata": {},
   "source": [
    "O termo correto para estas variáveis não é \"memória\" mas facilita se pensarmos que de alguma maneira elas são. As estruturas (corretamente, classes) abaixo são consideradas primárias no Python. Isso quer dizer que o Python padrão as usa como sendo parte de si.\n",
    "\n",
    "Colocamos como memória pois são maneiras de se guardar e trabalhar dados. Mais ou menos como uma memória o faz."
   ]
  },
  {
   "cell_type": "markdown",
   "metadata": {},
   "source": [
    "# Listas"
   ]
  },
  {
   "cell_type": "markdown",
   "metadata": {},
   "source": [
    "Listas são criadas usando **[ ]**. Podem ou não ser inicializadas (carregadas) com valores.\n",
    "\n",
    "O caso de uso para listas é quando queremos manter os elementos **EM ORDEM**. Outras estruturas do Python não mantém a ordem que original"
   ]
  },
  {
   "cell_type": "markdown",
   "metadata": {},
   "source": [
    "### Básico"
   ]
  },
  {
   "cell_type": "code",
   "execution_count": null,
   "metadata": {
    "collapsed": true
   },
   "outputs": [],
   "source": [
    "# inicia uma lista vazia\n",
    "lista = []\n",
    "\n",
    "# agora com conteúdo dentro\n",
    "lista_cheia = [1, 2, 3]\n",
    "\n",
    "# agora cheia com tipos misturados\n",
    "lista_misturada = [1, \"texto no meio\", 4.0]\n",
    "\n",
    "# agora com lista dentro de lista\n",
    "lista_a_origem = [[1,2], [4,5], [1, 2, 3]]\n",
    "\n",
    "# imprimindo o tipo\n",
    "print(type(lista), type(lista_cheia), type(lista_misturada), type(lista_a_origem))"
   ]
  },
  {
   "cell_type": "code",
   "execution_count": null,
   "metadata": {
    "collapsed": true
   },
   "outputs": [],
   "source": [
    "# acessando valores. Apenas coloque o número do local que quer extrair informação. A lista começa em 0 e não 1\n",
    "print(\"Valor do 0: \" + str(lista_cheia[0]))\n",
    "print(\"Valor do 3: \" + str(lista_cheia[3]))"
   ]
  },
  {
   "cell_type": "code",
   "execution_count": null,
   "metadata": {
    "collapsed": true
   },
   "outputs": [],
   "source": [
    "# decobrindo o tamanho da lista\n",
    "len(lista_cheia)"
   ]
  },
  {
   "cell_type": "code",
   "execution_count": null,
   "metadata": {
    "collapsed": true
   },
   "outputs": [],
   "source": [
    "# verificando se um elemento está na lista\n",
    "print(\"2 in lista_cheia: {}\".format(2 in lista_cheia))\n",
    "print(\"1000 in lista_cheia: {}\".format(1000 in lista_cheia))"
   ]
  },
  {
   "cell_type": "markdown",
   "metadata": {},
   "source": [
    "### Alterando a lista"
   ]
  },
  {
   "cell_type": "code",
   "execution_count": null,
   "metadata": {
    "collapsed": true
   },
   "outputs": [],
   "source": [
    "# posso alterar somente um valor\n",
    "lista_cheia[0] = 19999\n",
    "print(lista_cheia)"
   ]
  },
  {
   "cell_type": "code",
   "execution_count": null,
   "metadata": {
    "collapsed": true
   },
   "outputs": [],
   "source": [
    "# \"colar listas\", com +. Não altera a lista original (lista_cheia no exemplo)\n",
    "novo_pedaco = [68, 68, 67]\n",
    "nova_lista = lista_cheia + novo_pedaco\n",
    "print(nova_lista)\n",
    "\n",
    "# o comando extend altera a lista original\n",
    "lista_cheia.extend(novo_pedaco)\n",
    "lista_cheia"
   ]
  },
  {
   "cell_type": "code",
   "execution_count": null,
   "metadata": {
    "collapsed": true
   },
   "outputs": [],
   "source": [
    "# adicionando um novo elemento\n",
    "lista_cheia.append(999)\n",
    "lista_cheia"
   ]
  },
  {
   "cell_type": "code",
   "execution_count": null,
   "metadata": {
    "collapsed": true
   },
   "outputs": [],
   "source": [
    "# removendo um numero do meio\n",
    "del(lista_cheia[2])"
   ]
  },
  {
   "cell_type": "code",
   "execution_count": null,
   "metadata": {
    "collapsed": true
   },
   "outputs": [],
   "source": [
    "# remove o primeiro elemento somente\n",
    "lista_cheia.remove(68)\n",
    "lista_cheia"
   ]
  },
  {
   "cell_type": "markdown",
   "metadata": {},
   "source": [
    "### Slice (fatia da lista)\n",
    "Podemos usar somente um pedaço da lista."
   ]
  },
  {
   "cell_type": "code",
   "execution_count": null,
   "metadata": {
    "collapsed": true
   },
   "outputs": [],
   "source": [
    "lista_cheia"
   ]
  },
  {
   "cell_type": "code",
   "execution_count": null,
   "metadata": {
    "collapsed": true
   },
   "outputs": [],
   "source": [
    "# do começo e indo até um ponto\n",
    "print(\"Do inicio até um ponto: \\t{}\".format(lista_cheia[:3]))\n",
    "\n",
    "# comecando de um ponto e indo até o fim\n",
    "print(\"De um ponto até o fim: \\t\\t{}\".format(lista_cheia[3:]))\n",
    "\n",
    "# De um meio até um ponto antes do fim\n",
    "print(\"De um ponto do meio até o meio do fim: {}\".format(lista_cheia[3:4]))\n",
    "\n",
    "# até um ponto do fim, usando o fim como referência\n",
    "print(\"Do começo até 3 antes do fim \\t{}\".format(lista_cheia[:-3]))"
   ]
  },
  {
   "cell_type": "markdown",
   "metadata": {},
   "source": [
    "### Alterando a Ordem\n",
    "existem alguns métodos que alteram a ordem"
   ]
  },
  {
   "cell_type": "code",
   "execution_count": null,
   "metadata": {
    "collapsed": true
   },
   "outputs": [],
   "source": [
    "# altera a ordem da lista original\n",
    "lista_cheia.reverse()\n",
    "print(\"Lista ao contrário: \\t{}\".format(lista_cheia))\n",
    "# altera a ordem da lista original\n",
    "lista_cheia.sort()\n",
    "print(\"Lista ordenada: \\t{}\".format(lista_cheia))\n",
    "lista_cheia.reverse()\n",
    "print(\"Lista ordenada: \\t{}\".format(sorted(lista_cheia)))"
   ]
  },
  {
   "cell_type": "markdown",
   "metadata": {},
   "source": [
    "### For em listas"
   ]
  },
  {
   "cell_type": "code",
   "execution_count": null,
   "metadata": {
    "collapsed": true
   },
   "outputs": [],
   "source": [
    "# posso acessar cada elemento com um loop\n",
    "print(\"Tipo da lista {}\".format(type(lista)))\n",
    "for elemento in lista_cheia:\n",
    "    print(\"Valor: {} , Tipo: {}\".format(elemento, type(elemento)))"
   ]
  },
  {
   "cell_type": "code",
   "execution_count": null,
   "metadata": {
    "collapsed": true
   },
   "outputs": [],
   "source": [
    "# também podemos acessar usando um index.Mas para isto, precisamos pega o valor da lista\n",
    "tamanho = len(lista_cheia)\n",
    "for i in range(tamanho):\n",
    "    print(\"Index: {}\\tValor: {}\".format(i, lista_cheia[i]))"
   ]
  },
  {
   "cell_type": "markdown",
   "metadata": {},
   "source": [
    "### Verificando se existe um elemento na lista"
   ]
  },
  {
   "cell_type": "code",
   "execution_count": null,
   "metadata": {},
   "outputs": [],
   "source": [
    "# elemento tem que ser IGUAL\n",
    "elemento = 'João'\n",
    "lista = ['Joao', 'Adriano', 'Maria']\n",
    "\n",
    "elemento in lista"
   ]
  },
  {
   "cell_type": "code",
   "execution_count": null,
   "metadata": {},
   "outputs": [],
   "source": [
    "lista = ['João', 'Adriano', 'Maria']\n",
    "\n",
    "elemento in lista"
   ]
  },
  {
   "cell_type": "markdown",
   "metadata": {},
   "source": [
    "#### Pulo do Gato"
   ]
  },
  {
   "cell_type": "code",
   "execution_count": null,
   "metadata": {
    "collapsed": true
   },
   "outputs": [],
   "source": [
    "# nao se pode fazer operaçoes matemáticas diretamente nos elementos\n",
    "lista_cheia - 5"
   ]
  },
  {
   "cell_type": "code",
   "execution_count": null,
   "metadata": {
    "collapsed": true
   },
   "outputs": [],
   "source": [
    "# mas algumas operacoes funcionam\n",
    "print(\"Soma dos elementos: \\t{}\".format(sum(lista_cheia)))\n",
    "\n",
    "# altera elemento a elemento\n",
    "print(\"lista sem soma: \\t{}\".format(lista_cheia))\n",
    "lista_somada = list(map(lambda x: x+5, lista_cheia))\n",
    "print(\"lista com soma: \\t{}\".format(lista_somada))\n"
   ]
  },
  {
   "cell_type": "markdown",
   "metadata": {},
   "source": [
    "## Mini atividade"
   ]
  },
  {
   "cell_type": "markdown",
   "metadata": {},
   "source": [
    "Escreva um programa que sirva de TODO LIST:\n",
    "\n",
    "- Pergunte ao usuário as tarefas do dia, 1 a 1\n",
    "- Se o usuário escrever SAIR, o programa deve parar\n",
    "- Ao final, o programa deve imprimir a lista das tarefas, uma linha por vez.\n",
    "\n",
    "Obs: Se quiser deixar a saída da sua fila mais bonita"
   ]
  },
  {
   "cell_type": "code",
   "execution_count": null,
   "metadata": {
    "collapsed": true
   },
   "outputs": [],
   "source": [
    "# escreva o seu código aqui"
   ]
  }
 ],
 "metadata": {
  "kernelspec": {
   "display_name": "Python 3",
   "language": "python",
   "name": "python3"
  },
  "language_info": {
   "codemirror_mode": {
    "name": "ipython",
    "version": 3
   },
   "file_extension": ".py",
   "mimetype": "text/x-python",
   "name": "python",
   "nbconvert_exporter": "python",
   "pygments_lexer": "ipython3",
   "version": "3.6.2"
  }
 },
 "nbformat": 4,
 "nbformat_minor": 2
}
