{
 "cells": [
  {
   "cell_type": "markdown",
   "metadata": {},
   "source": [
    "## Mão na Massa - Jogo de Dados\n",
    "Agora é hora de refazer o nosso jogo de dados. Ficará muito mais simples com o nosso amigo Python."
   ]
  },
  {
   "cell_type": "markdown",
   "metadata": {},
   "source": [
    "### Algoritmo\n",
    "\n",
    "1. Jogar dados para o Player 1\n",
    "2. Jogar dados para o Player 2\n",
    "3. Comparar os resultados dos jogadores\n",
    "4. Imprimir o resultado\n",
    "\n",
    "Como jogo os dados? **Google it!!**\n",
    "Dica: procure por números randomicos."
   ]
  },
  {
   "cell_type": "markdown",
   "metadata": {},
   "source": [
    "Lembrando o passo a passo do framework de resolução:\n",
    "\n",
    "1. Entenda a entrada e a saída\n",
    "2. Faça alguns exemplos na prática\n",
    "3. Crie a solução MAIS SIMPLES\n",
    "4. Melhore o seu código (mais rápido, mais fácil de ler, mais preciso, etc)"
   ]
  },
  {
   "cell_type": "code",
   "execution_count": null,
   "metadata": {
    "collapsed": true
   },
   "outputs": [],
   "source": []
  }
 ],
 "metadata": {
  "kernelspec": {
   "display_name": "Python 3",
   "language": "python",
   "name": "python3"
  },
  "language_info": {
   "codemirror_mode": {
    "name": "ipython",
    "version": 3
   },
   "file_extension": ".py",
   "mimetype": "text/x-python",
   "name": "python",
   "nbconvert_exporter": "python",
   "pygments_lexer": "ipython3",
   "version": "3.6.2"
  }
 },
 "nbformat": 4,
 "nbformat_minor": 2
}
