{
 "cells": [
  {
   "cell_type": "markdown",
   "metadata": {},
   "source": [
    "### Strings\n",
    "Strings são variáveis que guardam texto. Na verdade, o tipo `str` é uma classe e assim possui muitas funções que nos ajudam a tratar o texto."
   ]
  },
  {
   "cell_type": "code",
   "execution_count": null,
   "metadata": {},
   "outputs": [],
   "source": [
    "texto = \"\"\"\n",
    "    Este é o meu texto. Linha 1\n",
    "linha2, sem tabulação\n",
    "linha 3, meio do caminho. Linha 4 será vazia\n",
    "dsksjhdajkhsdkjsa\n",
    "\n",
    "\"\"\"\n",
    "print(texto)\n",
    "texto"
   ]
  },
  {
   "cell_type": "markdown",
   "metadata": {},
   "source": [
    "Repare como o texto acima possui os caracteres `\\n` indicando que é uma nova linha"
   ]
  },
  {
   "cell_type": "markdown",
   "metadata": {},
   "source": [
    "#### strip"
   ]
  },
  {
   "cell_type": "code",
   "execution_count": null,
   "metadata": {},
   "outputs": [],
   "source": [
    "# removendo os brancos do começo e do fim. Os comandos retornam uma nova string, não alterando a anterior\n",
    "print(texto.strip())\n",
    "texto"
   ]
  },
  {
   "cell_type": "markdown",
   "metadata": {},
   "source": [
    "#### replace"
   ]
  },
  {
   "cell_type": "code",
   "execution_count": null,
   "metadata": {},
   "outputs": [],
   "source": [
    "# removendo os brancos do começo e do fim. Os comandos retornam uma nova string, não alterando a anterior\n",
    "texto.replace('a', 'u')"
   ]
  },
  {
   "cell_type": "code",
   "execution_count": null,
   "metadata": {},
   "outputs": [],
   "source": [
    "texto.replace?"
   ]
  },
  {
   "cell_type": "markdown",
   "metadata": {},
   "source": [
    "#### format"
   ]
  },
  {
   "cell_type": "code",
   "execution_count": null,
   "metadata": {},
   "outputs": [],
   "source": [
    "# format adiciona as variáveis ao texto. pode ser a uma variável ou a uma string criada na hora. \n",
    "# Substituirá {} pela variável. \n",
    "variavel = \"substituido\"\n",
    "\"string feita na hora {}\".format(variavel)"
   ]
  },
  {
   "cell_type": "code",
   "execution_count": null,
   "metadata": {},
   "outputs": [],
   "source": [
    "variavel = \"uma string com texto para substituir {}\"\n",
    "variavel.format(\"minha nova parte\")"
   ]
  },
  {
   "cell_type": "code",
   "execution_count": null,
   "metadata": {},
   "outputs": [],
   "source": [
    "fracionario = 1.4\n",
    "\"Teste {:8.10f}\".format(fracionario)"
   ]
  },
  {
   "cell_type": "markdown",
   "metadata": {},
   "source": [
    "#### join"
   ]
  },
  {
   "cell_type": "code",
   "execution_count": null,
   "metadata": {},
   "outputs": [],
   "source": [
    "# join usa a lógica contrária. Primeiro o texto que linkará as partes depoiso texto a ser unido\n",
    "partes = ['parte1', 'parte2', 'parte3']\n",
    "\" \".join(partes)"
   ]
  },
  {
   "cell_type": "code",
   "execution_count": null,
   "metadata": {},
   "outputs": [],
   "source": [
    "\"# \".join(partes)"
   ]
  },
  {
   "cell_type": "markdown",
   "metadata": {},
   "source": [
    "### Split\n",
    "esta função irá divir o texto, retornando uma lista. Verifique os parâmetros da função para mais resultados."
   ]
  },
  {
   "cell_type": "code",
   "execution_count": null,
   "metadata": {},
   "outputs": [],
   "source": [
    "texto.split()"
   ]
  },
  {
   "cell_type": "markdown",
   "metadata": {},
   "source": [
    "### Encadeamento\n",
    "Você pode colocar uma função depois da outra, fazendo a transformação completa em uma linha. Isto é possível pois cada função retorna uma \"string\", que é uma classe e assim possui todas as funções dentro dela."
   ]
  },
  {
   "cell_type": "code",
   "execution_count": null,
   "metadata": {},
   "outputs": [],
   "source": [
    "string_teste = \"Mais Uma TranSFOrmacao\"\n",
    "string_teste.upper().lower().title()"
   ]
  },
  {
   "cell_type": "code",
   "execution_count": null,
   "metadata": {},
   "outputs": [],
   "source": []
  }
 ],
 "metadata": {
  "kernelspec": {
   "display_name": "py36",
   "language": "python",
   "name": "py36"
  },
  "language_info": {
   "codemirror_mode": {
    "name": "ipython",
    "version": 3
   },
   "file_extension": ".py",
   "mimetype": "text/x-python",
   "name": "python",
   "nbconvert_exporter": "python",
   "pygments_lexer": "ipython3",
   "version": "3.6.8"
  }
 },
 "nbformat": 4,
 "nbformat_minor": 2
}
