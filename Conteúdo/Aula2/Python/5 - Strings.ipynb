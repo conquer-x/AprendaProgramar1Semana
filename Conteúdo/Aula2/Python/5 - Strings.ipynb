{
 "cells": [
  {
   "cell_type": "markdown",
   "metadata": {},
   "source": [
    "### Strings\n",
    "Strings são variáveis que guardam texto. Na verdade, o tipo `str` é uma classe e assim possui muitas funções que nos ajudam a tratar o texto."
   ]
  },
  {
   "cell_type": "code",
   "execution_count": null,
   "metadata": {
    "collapsed": true
   },
   "outputs": [],
   "source": [
    "texto = \"\"\"\n",
    "    Este é o meu texto. Linha 1\n",
    "linha2, sem tabulação\n",
    "linha 3, meio do caminho. Linha 4 será vazia\n",
    "dsksjhdajkhsdkjsa\n",
    "\n",
    "\"\"\"\n",
    "print(texto)\n",
    "texto"
   ]
  },
  {
   "cell_type": "markdown",
   "metadata": {},
   "source": [
    "Repare como o texto acima possui os caracteres `\\n` indicando que é uma nova linha"
   ]
  },
  {
   "cell_type": "markdown",
   "metadata": {},
   "source": [
    "#### strip\n",
    "Traduzindo strip para o português teremos \"esfolar, descascar\". Aqui realmente ele irá acabar com o os espaços em branco antes e depois."
   ]
  },
  {
   "cell_type": "code",
   "execution_count": null,
   "metadata": {
    "collapsed": true
   },
   "outputs": [],
   "source": [
    "# removendo os brancos do começo e do fim. Os comandos retornam uma nova string, não alterando a anterior\n",
    "print(texto.strip())"
   ]
  },
  {
   "cell_type": "code",
   "execution_count": null,
   "metadata": {
    "collapsed": true
   },
   "outputs": [],
   "source": [
    "# mais um exemplo\n",
    "com_espacos = \"   este tem espaco   \"\n",
    "com_espacos.strip()"
   ]
  },
  {
   "cell_type": "code",
   "execution_count": null,
   "metadata": {
    "collapsed": true
   },
   "outputs": [],
   "source": [
    "# repare que ele retorna uma nova string mas não estraga a velha\n",
    "string_limpa = com_espacos.strip()\n",
    "print(\"String antiga: {}\".format(com_espacos))\n",
    "print(\"String nova: {}\".format(string_limpa))"
   ]
  },
  {
   "cell_type": "markdown",
   "metadata": {},
   "source": [
    "#### replace\n",
    "Replace quer dizer trocar. Ou seja, pega o primeiro item e troca pelo segundo."
   ]
  },
  {
   "cell_type": "code",
   "execution_count": null,
   "metadata": {
    "collapsed": true
   },
   "outputs": [],
   "source": [
    "# posso fazer trocas no texto de maneira simples\n",
    "para_troca = \"a sapa na lava a pa\" \n",
    "para_troca.replace('a', 'u')"
   ]
  },
  {
   "cell_type": "code",
   "execution_count": null,
   "metadata": {
    "collapsed": true
   },
   "outputs": [],
   "source": [
    "# podemos trocar também palavras\n",
    "troca_palavra = \"Olá ALUNO, que bom que você chegou.\\nALUNO, o seu novo curso será fantástico\"\n",
    "print(troca_palavra.replace(\"ALUNO\", \"João\"))"
   ]
  },
  {
   "cell_type": "code",
   "execution_count": null,
   "metadata": {
    "collapsed": true
   },
   "outputs": [],
   "source": [
    "# mas ele é sensível a letras maísculas e minúsculas. Repare que não funciona\n",
    "print(troca_palavra.replace(\"aluno\", \"João\"))"
   ]
  },
  {
   "cell_type": "markdown",
   "metadata": {},
   "source": [
    "#### format\n",
    "Usada muito em nossos exemplos para imprimir de maneira correta. O carimbo possui algumas formatações para ajudar na impressão."
   ]
  },
  {
   "cell_type": "code",
   "execution_count": null,
   "metadata": {
    "collapsed": true
   },
   "outputs": [],
   "source": [
    "# format adiciona as variáveis ao texto. pode ser a uma variável ou a uma string criada na hora. \n",
    "# Substituirá {} pela variável. \n",
    "variavel = \"substituido\"\n",
    "\"string feita na hora {}\".format(variavel)"
   ]
  },
  {
   "cell_type": "code",
   "execution_count": null,
   "metadata": {
    "collapsed": true
   },
   "outputs": [],
   "source": [
    "variavel = \"uma string com texto para substituir {}\"\n",
    "variavel.format(\"minha nova parte\")"
   ]
  },
  {
   "cell_type": "code",
   "execution_count": null,
   "metadata": {
    "collapsed": true
   },
   "outputs": [],
   "source": [
    "# formata o numero para ter muuuuuitos 0 após os números\n",
    "fracionario = 1.4\n",
    "\"Teste {:8.10f}\".format(fracionario)"
   ]
  },
  {
   "cell_type": "code",
   "execution_count": null,
   "metadata": {
    "collapsed": true
   },
   "outputs": [],
   "source": [
    "Não existe ordem\n",
    "\"Posso substituir por nome {ponto1} e {ponto2}\".format(ponto2=\"Informacao2\", ponto1=\"Informação1\")"
   ]
  },
  {
   "cell_type": "markdown",
   "metadata": {},
   "source": [
    "#### join\n",
    "Junta várias strings numa só."
   ]
  },
  {
   "cell_type": "code",
   "execution_count": null,
   "metadata": {
    "collapsed": true
   },
   "outputs": [],
   "source": [
    "# join usa a lógica contrária. Primeiro o texto que linkará as partes depoiso texto a ser unido\n",
    "partes = ['parte1', 'parte2', 'parte3']\n",
    "\" \".join(partes)"
   ]
  },
  {
   "cell_type": "code",
   "execution_count": null,
   "metadata": {
    "collapsed": true
   },
   "outputs": [],
   "source": [
    "\"# \".join(partes)"
   ]
  },
  {
   "cell_type": "markdown",
   "metadata": {},
   "source": [
    "### Split\n",
    "esta função irá divir o texto, retornando uma lista. Verifique os parâmetros da função para mais resultados."
   ]
  },
  {
   "cell_type": "code",
   "execution_count": null,
   "metadata": {
    "collapsed": true
   },
   "outputs": [],
   "source": [
    "# este texto será dividia em pequenas strings (lista.. veremos a seguir)\n",
    "me_divida = \"este texto tem espacos. Mas poderia usar ; e ; para ; dividir; cada ; um dos campos\"\n",
    "me_divida.split(\" \")"
   ]
  },
  {
   "cell_type": "code",
   "execution_count": null,
   "metadata": {
    "collapsed": true
   },
   "outputs": [],
   "source": [
    "me_divida.split(\"; \")"
   ]
  },
  {
   "cell_type": "markdown",
   "metadata": {},
   "source": [
    "## upper e lower\n",
    "Coloca as strings em letras maiúsculas e minúsculas, respectivamente\n"
   ]
  },
  {
   "cell_type": "code",
   "execution_count": null,
   "metadata": {
    "collapsed": true
   },
   "outputs": [],
   "source": [
    "sou_pequenas = \"Esta e uma lista pequena\"\n",
    "sou_grandes = \"SOMOS GRANDES\""
   ]
  },
  {
   "cell_type": "code",
   "execution_count": null,
   "metadata": {
    "collapsed": true
   },
   "outputs": [],
   "source": [
    "sou_grandes.lower()"
   ]
  },
  {
   "cell_type": "code",
   "execution_count": null,
   "metadata": {
    "collapsed": true
   },
   "outputs": [],
   "source": [
    "sou_pequenas.upper()"
   ]
  },
  {
   "cell_type": "markdown",
   "metadata": {},
   "source": [
    "### Encadeamento\n",
    "Você pode colocar uma função depois da outra, fazendo a transformação completa em uma linha. Isto é possível pois cada função retorna uma \"string\", que é uma classe e assim possui todas as funções dentro dela."
   ]
  },
  {
   "cell_type": "code",
   "execution_count": null,
   "metadata": {
    "collapsed": true
   },
   "outputs": [],
   "source": [
    "string_teste = \"Mais Uma TranSFOrmacao\"\n",
    "string_teste.upper().lower().title()"
   ]
  },
  {
   "cell_type": "markdown",
   "metadata": {
    "collapsed": true
   },
   "source": [
    "### Mão na Massa\n",
    "\n",
    "Detector de texto\n",
    "\n",
    "Responda a seguinte pergunta:\n",
    "\n",
    "- Quantas vezes palavras começadas com **e** aparecem no texto. Palavras começadas com E ou e devem ser consideradas.\n",
    "- Qual o total de palavras?\n",
    "\n",
    "Ajudas:\n",
    "\n",
    "- procure no Google \n",
    "- existem palavras que começam com A e com a. Devem ser consideradas as duas."
   ]
  },
  {
   "cell_type": "code",
   "execution_count": null,
   "metadata": {
    "collapsed": true
   },
   "outputs": [],
   "source": [
    "texto = \"\"\"\n",
    "São Paulo – Você acha que sua faculdade ou pós-graduação o preparou para ser um empreendedor ou um profissional com capacidade de ir mais longe na carreira? Para muitos estudantes, a resposta é não.\n",
    "É o caso dos empreendedores Josef Rubin, Hendel Favarin e Sidnei Junior. Insatisfeitos com uma educação academicista e teórica, os executivos decidiram criar a própria escola. A inspiração para o currículo? As melhores instituições educacionais do Vale do Silício, a “meca das startups.”\n",
    "Desde agosto de 2016, a escola Conquer já atendeu 5.000 alunos. O empreendimento faturou 1,2 milhão de reais em 2017, sendo que 30 a 40% desses ganhos vieram de treinamentos corporativos. Para o futuro, o colégio aposta na expansão por novos territórios – o que pode inclui a estruturação de uma rede franqueadora.\n",
    "Josef Rubin, que liderou a operação do Grupo Boticário na Colômbia; Hendel Favarin, que advogou na empresa de auditoria e contabilidade PwC; e Sidnei Junior, que trabalhava na fintech de pagamentos Vindi, tinham uma característica em comum: eles estavam insatisfeitos com suas formações na faculdade e na pós-graduação\n",
    "Entre as técnicas desejadas pelos executivos estavam inteligência emocional e financeira, liderança, negociação, oratória, persuasão e produtividade. Da conversa veio uma ideia de negócio: por que não fundar uma escola que ensinasse conteúdos de forma atraente e objetiva, fazendo com que o aluno aplicasse o que aprendeu já no dia seguinte?\n",
    "Em busca de inspirações, Rubin foi ao Vale do Silício e ficou três meses em visitas a escolas como Draper University e Singularity. “A gente teve acesso a todo o ecossistema empreendedor do Vale e desenvolvemos nossa metodologia com base em escolas que de fato impactam o mundo”, afirma Favarin.\n",
    "Em agosto de 2016, a escola Conquer abriu as portas para “empreendedores e funcionários que querem fazer diferente” em Curitiba (Paraná). O negócio recebe desde graduandos e empreendedores de 18 anos de idade até CEOs que já passaram dos 50.\n",
    "\"\"\""
   ]
  }
 ],
 "metadata": {
  "kernelspec": {
   "display_name": "Python 3",
   "language": "python",
   "name": "python3"
  },
  "language_info": {
   "codemirror_mode": {
    "name": "ipython",
    "version": 3
   },
   "file_extension": ".py",
   "mimetype": "text/x-python",
   "name": "python",
   "nbconvert_exporter": "python",
   "pygments_lexer": "ipython3",
   "version": "3.6.2"
  }
 },
 "nbformat": 4,
 "nbformat_minor": 2
}
