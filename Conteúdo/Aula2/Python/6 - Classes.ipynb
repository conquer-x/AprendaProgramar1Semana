{
 "cells": [
  {
   "cell_type": "markdown",
   "metadata": {},
   "source": [
    "# Classes\n",
    "Classes como já vimos até agora são estruturas de dados que condensam informações e funções que nos ajudam a tratar os dados nela contidos.  Por exemplo, a classe `str` do Python possui muitas funções que nos ajudam a manipular textos (ex: `split`).\n",
    "\n",
    "Classes vem de um paradigma de programação chamado **Orientaçao ao Objeto**. Este conceito é muito amplo e assim, mostraremos aqui a base de como criar classes no Python"
   ]
  },
  {
   "cell_type": "code",
   "execution_count": null,
   "metadata": {},
   "outputs": [],
   "source": [
    "# esqueleto de uma classe\n",
    "class MinhaClasse(object):\n",
    "    \n",
    "    def __init__(self, param1, param2): # toda funcão no python deve comecar com self nos parmetros\n",
    "        \"\"\"\n",
    "        Comentário desta classe\n",
    "        \"\"\"\n",
    "        self.var1 = param1 # variáveis criadas com `self.` fazem com que a variável fique salva na classe\n",
    "        self.var2 = param2\n",
    "        print('__init__ rodado')\n",
    "        \n",
    "    def minhaFuncao(self):\n",
    "        \"\"\"\n",
    "        Mais um comentário\n",
    "        \"\"\"\n",
    "        print('minhaFuncao rodada')\n",
    "        pass # comando que não faz nada\n",
    "\n",
    "# instanciando (criando um \"ser\" do tipo MinhaClasse)\n",
    "classe =  MinhaClasse(1,2)\n",
    "print(type(classe))\n",
    "classe.minhaFuncao()\n",
    "print(\"Acessando a variavel dentro da classe {}\".format(classe.var1))"
   ]
  },
  {
   "cell_type": "markdown",
   "metadata": {},
   "source": [
    "### Métodos"
   ]
  },
  {
   "cell_type": "markdown",
   "metadata": {},
   "source": [
    "Funções dentro de classes são chamadas de métodos. Na prática, são todas funções, com parâmetros, e que podem retornar algo. \n",
    "\n",
    "Algumas funções comuns são explicadas na classe abaixo"
   ]
  },
  {
   "cell_type": "code",
   "execution_count": null,
   "metadata": {},
   "outputs": [],
   "source": [
    "class CursoConquer(object):\n",
    "    \n",
    "    def __init__(self, nome, cidade, local, data, freq, preco):\n",
    "        \"\"\"\n",
    "        Inicia os parâmetros necessários\n",
    "        \"\"\"\n",
    "        self.nome = nome\n",
    "        self.cidade = cidade\n",
    "        self.local = local\n",
    "        self.data = data\n",
    "        self.freq = freq\n",
    "        self.preco = preco\n",
    "\n",
    "    def __str__(self):\n",
    "        \"\"\"\n",
    "        Define como será impressa esta classe\n",
    "        \"\"\"\n",
    "        ret = \"{} - {} - {} - {} - {} - {}\".format(self.nome, self.cidade, self.local, \\\n",
    "               self.data, self.freq, self.preco)\n",
    "        return ret \n",
    "\n",
    "    def __iter__(self):\n",
    "        \"\"\"\n",
    "        Ajuda para converter a classe em dicionário\n",
    "        \"\"\"\n",
    "        return iter(self.__dict__.items())\n",
    "    \n",
    "    def _funcaoEscondida(self):\n",
    "        \"\"\"\n",
    "        Funcão que não aparecerá no help dos programas. Mas ela pode ser acessada. Ela é \"fake\" escondida \n",
    "        \"\"\"\n",
    "        print(\"Funcao escondida\")\n",
    "        \n",
    "    def funcaoNormal(self):\n",
    "        \"\"\"\n",
    "        Funcão normal\n",
    "        \"\"\"\n",
    "        print(\"Funcao normalzinha, básica\")"
   ]
  },
  {
   "cell_type": "markdown",
   "metadata": {},
   "source": [
    "Instâncias são os \"seres\" das classes criadas."
   ]
  },
  {
   "cell_type": "code",
   "execution_count": null,
   "metadata": {},
   "outputs": [],
   "source": [
    "instancia1 = CursoConquer('Curso1', 'cwb', 'centro', '02/04/2019', '1 vez semana', 'R$999,99')\n",
    "instancia2 = CursoConquer('Curso1', 'cwb', 'centro', '02/04/2019', '1 vez semana', 'R$999,99')\n",
    "\n",
    "print(\"Sao do mesmo tipo? {}\".format(type(instancia1) == type(instancia2)))\n",
    "print(\"Sao iguais? {}\".format(instancia1 == instancia2))"
   ]
  },
  {
   "cell_type": "code",
   "execution_count": null,
   "metadata": {},
   "outputs": [],
   "source": [
    "# repare o valor final (o \"CPF\") deles, diferente instâncias (seres)\n",
    "instancia1"
   ]
  },
  {
   "cell_type": "code",
   "execution_count": null,
   "metadata": {},
   "outputs": [],
   "source": [
    "instancia2"
   ]
  },
  {
   "cell_type": "code",
   "execution_count": null,
   "metadata": {},
   "outputs": [],
   "source": [
    "# chamando as funções\n",
    "instancia1.funcaoNormal()"
   ]
  },
  {
   "cell_type": "code",
   "execution_count": null,
   "metadata": {},
   "outputs": [],
   "source": [
    "# escreva instancia1. e aperte a tecla TAB no seu teclado. a funcao escondida nao aparecerá\n",
    "instancia1.funcaoNormal()"
   ]
  },
  {
   "cell_type": "code",
   "execution_count": null,
   "metadata": {},
   "outputs": [],
   "source": [
    "# mas você pode chamá-la\n",
    "instancia1."
   ]
  },
  {
   "cell_type": "markdown",
   "metadata": {},
   "source": [
    "#### Pulo do Gato\n",
    "Você pode ver quais os métodos que existem na classe usando o comando `dir()` ou com a função .__attrs__"
   ]
  },
  {
   "cell_type": "code",
   "execution_count": null,
   "metadata": {},
   "outputs": [],
   "source": [
    "dir(instancia1)"
   ]
  },
  {
   "cell_type": "code",
   "execution_count": null,
   "metadata": {},
   "outputs": [],
   "source": [
    "# vendo a ins\n",
    "instancia1.__dict__"
   ]
  },
  {
   "cell_type": "markdown",
   "metadata": {},
   "source": [
    "### Inheritance (herança)\n",
    "Nada se cria, tudo se copia!\n",
    "\n",
    "Com classes esta máxima pode ser verdadeira. Podemos criar uma classe que seja filha da primeira e que melhore a classe anterior."
   ]
  },
  {
   "cell_type": "code",
   "execution_count": null,
   "metadata": {},
   "outputs": [],
   "source": [
    "class CursoForca(CursoConquer):\n",
    "    def __init__(self, cidade, local, data, freq, preco):\n",
    "        super().__init__('Força', cidade, local, data, freq, preco)\n",
    "        self.variavel_exclusiva = 'material 1,2,3'\n",
    "        \n",
    "    def funcaoNormal(self):\n",
    "        print('nova funcao')"
   ]
  },
  {
   "cell_type": "code",
   "execution_count": null,
   "metadata": {},
   "outputs": [],
   "source": [
    "forca = CursoForca('cwb', 'centro', '02/04/2019', '1 vez semana', 'R$999,99')\n",
    "print(\"Nova variável do descendente (CursoForca): {}\".format(forca.variavel_exclusiva))\n",
    "print(\"Variável do ancestral (CursoConquer): {}\".format(forca.cidade))"
   ]
  },
  {
   "cell_type": "code",
   "execution_count": null,
   "metadata": {},
   "outputs": [],
   "source": [
    "# se tentarmos acessar a variavel filha no ancestral, ele não existe\n",
    "istancia1.cidade"
   ]
  },
  {
   "cell_type": "code",
   "execution_count": null,
   "metadata": {},
   "outputs": [],
   "source": [
    "forca.funcaoNormal()"
   ]
  },
  {
   "cell_type": "code",
   "execution_count": null,
   "metadata": {},
   "outputs": [],
   "source": []
  }
 ],
 "metadata": {
  "kernelspec": {
   "display_name": "py36",
   "language": "python",
   "name": "py36"
  },
  "language_info": {
   "codemirror_mode": {
    "name": "ipython",
    "version": 3
   },
   "file_extension": ".py",
   "mimetype": "text/x-python",
   "name": "python",
   "nbconvert_exporter": "python",
   "pygments_lexer": "ipython3",
   "version": "3.6.8"
  }
 },
 "nbformat": 4,
 "nbformat_minor": 2
}
