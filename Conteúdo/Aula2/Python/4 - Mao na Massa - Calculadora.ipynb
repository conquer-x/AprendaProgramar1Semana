{
 "cells": [
  {
   "cell_type": "markdown",
   "metadata": {},
   "source": [
    "### Mão na Massa\n",
    "Neste exercício você deve fazer uma calculadora. A calculadora deve pedir dois operandos (números) e a operação. O retorno deve ser o resultado. Ex:\n",
    "\n",
    "```\n",
    "Insira os números e a operação:\n",
    "\n",
    "1 2 +\n",
    "\n",
    "Resultado:\n",
    "3\n",
    "```\n",
    "\n",
    "\n",
    "\n",
    "\n",
    "*Dica*: Use os notebooks 2 e 3 para lhe ajudar nesta tarefa"
   ]
  },
  {
   "cell_type": "code",
   "execution_count": null,
   "metadata": {},
   "outputs": [],
   "source": []
  }
 ],
 "metadata": {
  "kernelspec": {
   "display_name": "py36",
   "language": "python",
   "name": "py36"
  },
  "language_info": {
   "codemirror_mode": {
    "name": "ipython",
    "version": 3
   },
   "file_extension": ".py",
   "mimetype": "text/x-python",
   "name": "python",
   "nbconvert_exporter": "python",
   "pygments_lexer": "ipython3",
   "version": "3.6.8"
  }
 },
 "nbformat": 4,
 "nbformat_minor": 2
}
