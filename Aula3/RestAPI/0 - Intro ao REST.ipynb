{
 "cells": [
  {
   "cell_type": "markdown",
   "metadata": {},
   "source": [
    "### Uso de APIs no Python\n",
    "Este notebook mostrará o uso de APIs. No Python existem muitas bibliotecas que podem ser usadas para ajudar na comunicação com as APIS. Uma das mais simples e populares é a biblioteca [requests](http://docs.python-requests.org/pt_BR/latest/).\n",
    "\n",
    "O servidor que contataremos é um site que não possui nenhuma informação real, mas retorna strings aleatórias para as chamadas ao serviço. Ele serve bem para ilustrar um serviço completo:\n",
    "\n",
    "[REQRES](https://reqres.in/)\n"
   ]
  },
  {
   "cell_type": "code",
   "execution_count": null,
   "metadata": {},
   "outputs": [],
   "source": [
    "# comece instalando a biblioteca\n",
    "!pip install requests"
   ]
  },
  {
   "cell_type": "code",
   "execution_count": 5,
   "metadata": {},
   "outputs": [],
   "source": [
    "# importa as bilbiotecas que iremos usar\n",
    "from urllib.parse import urljoin, urlencode, quote_plus # a biblioteca parse é a que tem vários helpers\n",
    "import requests # irá fazer as chamadas\n",
    "import pprint # apenas para impressao ficar mais bonita"
   ]
  },
  {
   "cell_type": "code",
   "execution_count": 7,
   "metadata": {},
   "outputs": [
    {
     "data": {
      "text/plain": [
       "'https://reqres.in/api/users'"
      ]
     },
     "execution_count": 7,
     "metadata": {},
     "output_type": "execute_result"
    }
   ],
   "source": [
    "# configurações\n",
    "url_base = 'https://reqres.in/api/'\n",
    "    \n",
    "def criar_url(base, recurso):\n",
    "    return urljoin(base, recurso)\n",
    "\n",
    "def imprimir_resposta(resposta):\n",
    "    print(\"Código da resposta: {} - {}\".format(resposta.status_code, resposta.reason))\n",
    "    print(\"JSON da resposta:\")\n",
    "    try:\n",
    "        pprint.pprint(resposta.json())\n",
    "    except:\n",
    "        pprint.pprint(resposta.text)\n",
    "\n",
    "        \n",
    "url_completo = criar_url(url_base, 'users')\n",
    "url_completo"
   ]
  },
  {
   "cell_type": "code",
   "execution_count": 8,
   "metadata": {},
   "outputs": [
    {
     "data": {
      "text/plain": [
       "'pagina=1&query=minha+query+especial'"
      ]
     },
     "execution_count": 8,
     "metadata": {},
     "output_type": "execute_result"
    }
   ],
   "source": [
    "# helpers para criar urls válidas\n",
    "dic = {'pagina': 1, 'query': 'minha query especial'}\n",
    "urlencode(dic)"
   ]
  },
  {
   "cell_type": "code",
   "execution_count": 9,
   "metadata": {},
   "outputs": [
    {
     "data": {
      "text/plain": [
       "'este+%C3%A9+um+texto+n%C3%A3o+v%C3%A1lido+212+%25'"
      ]
     },
     "execution_count": 9,
     "metadata": {},
     "output_type": "execute_result"
    }
   ],
   "source": [
    "# transformar em textos válidos no URL\n",
    "quote_plus('este é um texto não válido 212 %')"
   ]
  },
  {
   "cell_type": "markdown",
   "metadata": {},
   "source": [
    "### GET\n",
    "buscando informações. comando REST - GET"
   ]
  },
  {
   "cell_type": "code",
   "execution_count": 10,
   "metadata": {},
   "outputs": [
    {
     "data": {
      "text/plain": [
       "{'_content': b'{\"page\":1,\"per_page\":3,\"total\":12,\"total_pages\":4,\"data\":[{\"id\":1,\"first_name\":\"George\",\"last_name\":\"Bluth\",\"avatar\":\"https://s3.amazonaws.com/uifaces/faces/twitter/calebogden/128.jpg\"},{\"id\":2,\"first_name\":\"Janet\",\"last_name\":\"Weaver\",\"avatar\":\"https://s3.amazonaws.com/uifaces/faces/twitter/josephstein/128.jpg\"},{\"id\":3,\"first_name\":\"Emma\",\"last_name\":\"Wong\",\"avatar\":\"https://s3.amazonaws.com/uifaces/faces/twitter/olegpogodaev/128.jpg\"}]}',\n",
       " '_content_consumed': True,\n",
       " '_next': None,\n",
       " 'status_code': 200,\n",
       " 'headers': {'Date': 'Thu, 04 Apr 2019 12:28:35 GMT', 'Content-Type': 'application/json; charset=utf-8', 'Transfer-Encoding': 'chunked', 'Connection': 'keep-alive', 'Set-Cookie': '__cfduid=db1e12fff2e9712879b86b7fa9eddf2cd1554380915; expires=Fri, 03-Apr-20 12:28:35 GMT; path=/; domain=.reqres.in; HttpOnly', 'X-Powered-By': 'Express', 'Access-Control-Allow-Origin': '*', 'ETag': 'W/\"1bb-D+c3sZ5g5u/nmLPQRl1uVo2heAo\"', 'Expect-CT': 'max-age=604800, report-uri=\"https://report-uri.cloudflare.com/cdn-cgi/beacon/expect-ct\"', 'Server': 'cloudflare', 'CF-RAY': '4c2348739de8cf52-IAD', 'Content-Encoding': 'gzip'},\n",
       " 'raw': <urllib3.response.HTTPResponse at 0x10d425128>,\n",
       " 'url': 'https://reqres.in/api/users',\n",
       " 'encoding': 'utf-8',\n",
       " 'history': [],\n",
       " 'reason': 'OK',\n",
       " 'cookies': <RequestsCookieJar[Cookie(version=0, name='__cfduid', value='db1e12fff2e9712879b86b7fa9eddf2cd1554380915', port=None, port_specified=False, domain='.reqres.in', domain_specified=True, domain_initial_dot=True, path='/', path_specified=True, secure=False, expires=1585916915, discard=False, comment=None, comment_url=None, rest={'HttpOnly': None}, rfc2109=False)]>,\n",
       " 'elapsed': datetime.timedelta(0, 0, 616834),\n",
       " 'request': <PreparedRequest [GET]>,\n",
       " 'connection': <requests.adapters.HTTPAdapter at 0x10d3744e0>}"
      ]
     },
     "execution_count": 10,
     "metadata": {},
     "output_type": "execute_result"
    }
   ],
   "source": [
    "# chamamos o request e o método get\n",
    "resposta = requests.get(url_completo)\n",
    "\n",
    "# a funcao get devolverá um objeto que conterá várias informacoes a respeito da chamada\n",
    "# retorna o código 200 - OK\n",
    "resposta.__dict__"
   ]
  },
  {
   "cell_type": "code",
   "execution_count": 11,
   "metadata": {},
   "outputs": [
    {
     "name": "stdout",
     "output_type": "stream",
     "text": [
      "Código da resposta: 200 - OK\n",
      "JSON da resposta:\n",
      "{'data': [{'avatar': 'https://s3.amazonaws.com/uifaces/faces/twitter/calebogden/128.jpg',\n",
      "           'first_name': 'George',\n",
      "           'id': 1,\n",
      "           'last_name': 'Bluth'},\n",
      "          {'avatar': 'https://s3.amazonaws.com/uifaces/faces/twitter/josephstein/128.jpg',\n",
      "           'first_name': 'Janet',\n",
      "           'id': 2,\n",
      "           'last_name': 'Weaver'},\n",
      "          {'avatar': 'https://s3.amazonaws.com/uifaces/faces/twitter/olegpogodaev/128.jpg',\n",
      "           'first_name': 'Emma',\n",
      "           'id': 3,\n",
      "           'last_name': 'Wong'}],\n",
      " 'page': 1,\n",
      " 'per_page': 3,\n",
      " 'total': 12,\n",
      " 'total_pages': 4}\n"
     ]
    }
   ],
   "source": [
    "# buscou no recurso a lista do que existe\n",
    "imprimir_resposta(resposta)"
   ]
  },
  {
   "cell_type": "code",
   "execution_count": 12,
   "metadata": {},
   "outputs": [
    {
     "name": "stdout",
     "output_type": "stream",
     "text": [
      "chamando https://reqres.in/api/unknown/2\n",
      "Código da resposta: 200 - OK\n",
      "JSON da resposta:\n",
      "{'data': {'color': '#C74375',\n",
      "          'id': 2,\n",
      "          'name': 'fuchsia rose',\n",
      "          'pantone_value': '17-2031',\n",
      "          'year': 2001}}\n"
     ]
    }
   ],
   "source": [
    "# podemos pegar um elemento somente\n",
    "fuchsia_id = 2\n",
    "print('chamando {}'.format(urljoin(url_base, 'unknown/') + str(fuchsia_id)))\n",
    "resposta = requests.get(urljoin(url_base, 'unknown/') + str(fuchsia_id))\n",
    "\n",
    "imprimir_resposta(resposta)"
   ]
  },
  {
   "cell_type": "markdown",
   "metadata": {},
   "source": [
    "### POST\n",
    "Enviando informações. comando REST - POST"
   ]
  },
  {
   "cell_type": "code",
   "execution_count": null,
   "metadata": {},
   "outputs": [],
   "source": [
    "# para salvar uma informação, passamos no corpo da mensagem o JSON\n",
    "# este retornará o código 201\n",
    "info_usuario = {\n",
    "    \"name\": \"Tony Stark\",\n",
    "    \"job\": \"IronMan\"\n",
    "}  \n",
    "resposta = requests.post(url_completo, data=info_usuario)\n",
    "imprimir_resposta(resposta)"
   ]
  },
  {
   "cell_type": "code",
   "execution_count": null,
   "metadata": {},
   "outputs": [],
   "source": [
    "# post também é usado quando quer realizar a acao. Se não fizermos direito, deve dar a resposta\n",
    "url_post = urljoin(url_base, 'register')\n",
    "print(url_post)\n",
    "resposta = requests.post(urljoin(url_base, 'register'))\n",
    "imprimir_resposta(resposta)"
   ]
  },
  {
   "cell_type": "code",
   "execution_count": null,
   "metadata": {},
   "outputs": [],
   "source": [
    "# autenticando com o usuário e senha e recebendo o token de volta\n",
    "usuario = {\n",
    "    \"email\": \"sydney@fife\",\n",
    "    \"password\": \"pistol\"\n",
    "}\n",
    "resposta = requests.post(urljoin(url_base, 'register'), data=usuario)\n",
    "imprimir_resposta(resposta)"
   ]
  },
  {
   "cell_type": "markdown",
   "metadata": {},
   "source": [
    "### Delete\n",
    "Para apagar um registro."
   ]
  },
  {
   "cell_type": "code",
   "execution_count": null,
   "metadata": {},
   "outputs": [],
   "source": [
    "# manda apagar o registro do usuário 2. Repare na resposta 204. que é ok, mas resposta vazia.\n",
    "url_post = urljoin(url_base, 'users/2')\n",
    "print(url_post)\n",
    "resposta = requests.delete(urljoin(url_base, '/api/users/2'))\n",
    "imprimir_resposta(resposta)"
   ]
  },
  {
   "cell_type": "markdown",
   "metadata": {},
   "source": [
    "### Parâmetros\n",
    "Alguns endereços (urls) possuem parâmetros que são passados para poder dar algum direcionamento para o Servidor que está provendo o serviço.\n",
    "\n",
    "Como exemplo, podemos citar um parâmetro de limite de numero de registros ou um parâmetro de offset (registro incial) a ser usado na chamada"
   ]
  },
  {
   "cell_type": "code",
   "execution_count": null,
   "metadata": {},
   "outputs": [],
   "source": [
    "# CUIDADO: o tempo de resposta pode ser lento. Se for fazer multiplas chamads, isto pode se tornar um problema\n",
    "recurso = '/api/users'\n",
    "url_post = urljoin(url_base, recurso)\n",
    "print(url_post)\n",
    "resposta = requests.get(urljoin(url_base, recurso), params={'delay':10})\n",
    "imprimir_resposta(resposta)"
   ]
  },
  {
   "cell_type": "code",
   "execution_count": null,
   "metadata": {},
   "outputs": [],
   "source": [
    "resposta.url"
   ]
  },
  {
   "cell_type": "code",
   "execution_count": null,
   "metadata": {},
   "outputs": [],
   "source": []
  }
 ],
 "metadata": {
  "kernelspec": {
   "display_name": "py36",
   "language": "python",
   "name": "py36"
  },
  "language_info": {
   "codemirror_mode": {
    "name": "ipython",
    "version": 3
   },
   "file_extension": ".py",
   "mimetype": "text/x-python",
   "name": "python",
   "nbconvert_exporter": "python",
   "pygments_lexer": "ipython3",
   "version": "3.6.8"
  }
 },
 "nbformat": 4,
 "nbformat_minor": 2
}
