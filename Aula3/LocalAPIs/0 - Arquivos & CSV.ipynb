{
 "cells": [
  {
   "cell_type": "markdown",
   "metadata": {},
   "source": [
    "## Arquivos\n",
    "Como vimos, teremos informação de entrada e saída no nosso programa. Seja ela extraída da web, de uma API, uma informação teclada pelo usuário, em um determinado momento iremos salvá-la em um arquivo ou em banco de dados para depois ser acessada novamente.\n",
    "\n",
    "Neste módulo veremos como trabalhar com arquivos e diretórios no Python. Usaremos um problema para ilustrar o uso das bibliotecas."
   ]
  },
  {
   "cell_type": "markdown",
   "metadata": {},
   "source": [
    "### Problema\n",
    "Temos um conjunto de imagens que foram [baixados da internet](https://unsplash.com/). Mas quando foram salvas no computador, não foi pensado em renomear estes arquivos de maneira correta a sabermos do que elas se tratam.\n",
    "\n",
    "Assim, nosso trabalho será de renomear cada uma delas."
   ]
  },
  {
   "cell_type": "code",
   "execution_count": null,
   "metadata": {},
   "outputs": [],
   "source": [
    "# importando as bibliotecas que usaremos\n",
    "import os"
   ]
  },
  {
   "cell_type": "code",
   "execution_count": null,
   "metadata": {},
   "outputs": [],
   "source": [
    "# algums definicoes\n",
    "diretorio_atual = os.path.abspath(os.curdir)\n",
    "pasta_entrada = os.path.join(diretorio_atual, 'ImagensSemNome/')\n",
    "pasta_saida = os.path.join(diretorio_atual, 'ImagensComNome/')"
   ]
  },
  {
   "cell_type": "code",
   "execution_count": null,
   "metadata": {},
   "outputs": [],
   "source": [
    "os.walk?"
   ]
  },
  {
   "cell_type": "code",
   "execution_count": null,
   "metadata": {},
   "outputs": [],
   "source": [
    "# para cada diretório na árvore, retornará a pasta com o diretório completo, subdiretórios e arquivos\n",
    "for diretorio, subdiretorio, arquivos in os.walk('.'):\n",
    "    print('----')\n",
    "    print(diretorio, subdiretorio, arquivos)"
   ]
  },
  {
   "cell_type": "code",
   "execution_count": null,
   "metadata": {},
   "outputs": [],
   "source": [
    "import glob\n",
    "glob.glob(os.path.join(pasta_saida,'*.jp*'))"
   ]
  },
  {
   "cell_type": "markdown",
   "metadata": {},
   "source": [
    "### Lógica/algoritmo\n",
    "Para podermos decifrar o que existe em cada foto eu devo (de maneira geral, não necessariamente via programação):\n",
    "    \n",
    "- Ir ao diretório\n",
    "- [Listar as fotos e para cada foto no diretório](https://www.google.com/search?source=hp&ei=RIqkXM_sGZPA5OUPk4KHqAE&q=como+listar+arquivos+python3&btnK=Google+Search&oq=como+listar+arquivos+python3&gs_l=psy-ab.3..33i160.972.972..1898...0.0..0.183.280.1j1......0....2j1..gws-wiz.....0.i6v6S990CY8)\n",
    "    - abrir a foto\n",
    "    - [identificar o que é](https://www.google.com/search?ei=7IukXPHcJZ-85OUPn7SOmAU&q=machine+learning+api+google+imagens&oq=machine+learning+api+google+imagens&gs_l=psy-ab.3..33i160.47963.47963..48145...0.0..0.169.169.0j1......0....2j1..gws-wiz.7Emee_opaSw)\n",
    "    - [fechar a foto e renomear o arquivo](https://www.google.com/search?ei=WIukXKi-BJjG5OUP27yKOA&q=como+renomar+um+arquivo+no+python&oq=como+renomar+um+arquivo+no+python&gs_l=psy-ab.3..0i22i30.143539.147658..147837...0.0..1.213.3774.4j28j1......0....1..gws-wiz.......0i71j0i131j0j0i67j0i70i255j0i13j0i13i30.RqvN69CDPbM)\n",
    "    \n",
    "Fazendo esta lógica com a programação:"
   ]
  },
  {
   "cell_type": "code",
   "execution_count": null,
   "metadata": {},
   "outputs": [],
   "source": [
    "# queremos pegar todos os arquivos da pasta ImagensSemNome\n",
    "print(\"Diretório atual {}\".format(diretorio_atual))\n",
    "for arquivo in os.listdir(pasta_entrada):\n",
    "    \n",
    "    # só move se for arquivo de foto (existem alguns escondidos as vezes.)\n",
    "    extensao = arquivo.split('.')[-1]\n",
    "    if extensao not in ['jpg', 'jpeg']:\n",
    "        break\n",
    "        \n",
    "    # abrir a foto\n",
    "    print(\"Arquivos de entrada {}\".format(arquivo))\n",
    "    \n",
    "    # identificar o que é\n",
    "    \n",
    "    # renomear o arquivo\n",
    "    os.rename(os.path.join(pasta_entrada,arquivo), os.path.join(pasta_saida, 'teste_{}'.format(arquivo)))\n",
    "\n",
    "# verificando se renomeamos\n",
    "for arquivo in os.listdir(pasta_saida):\n",
    "    print(\"Arquivos de saída {}\".format(arquivo))"
   ]
  },
  {
   "cell_type": "code",
   "execution_count": null,
   "metadata": {},
   "outputs": [],
   "source": [
    "# retorna para o arquivo anterior\n",
    "print(\"Diretório atual {}\".format(diretorio_atual))\n",
    "for arquivo in os.listdir(pasta_saida):\n",
    "    # só move se for arquivo de foto (existem alguns escondidos as vezes.)\n",
    "    extensao = arquivo.split('.')[-1]\n",
    "    if extensao not in ['jpg', 'jpeg']:\n",
    "        break\n",
    "        \n",
    "    # abrir a foto\n",
    "    print(\"Arquivos de entrada {}\".format(arquivo))\n",
    "    \n",
    "    # identificar o que é\n",
    "    \n",
    "    # renomear o arquivo\n",
    "    os.rename(os.path.join(pasta_saida,arquivo), os.path.join(pasta_entrada, arquivo[len('teste_'):]))\n",
    "\n",
    "# verificando se renomeamos\n",
    "for arquivo in os.listdir(pasta_entrada):\n",
    "    print(\"Arquivos de saída {}\".format(arquivo))"
   ]
  },
  {
   "cell_type": "markdown",
   "metadata": {},
   "source": [
    "Resolvemos o pequeno problema. Mas o ideal seria copiar. Vamos mais tarde trocar o código usando [copia](https://www.google.com/search?q=copiando+arquivos+python3&oq=copiando+arquivos+python3&aqs=chrome..69i57j0l4.5944j0j9&sourceid=chrome&ie=UTF-8) ao invés de rename"
   ]
  },
  {
   "cell_type": "code",
   "execution_count": null,
   "metadata": {},
   "outputs": [],
   "source": [
    "# instalando a biblioteca do Python\n",
    "! pip install --upgrade google-cloud-vision"
   ]
  },
  {
   "cell_type": "code",
   "execution_count": null,
   "metadata": {},
   "outputs": [],
   "source": [
    "import io\n",
    "import os\n",
    "\n",
    "# define onde está a nossa chave\n",
    "arquivo_chave = 'client_secret.json'\n",
    "os.environ['GOOGLE_APPLICATION_CREDENTIALS']=os.path.join(diretorio_atual, arquivo_chave)\n",
    "\n",
    "# importação de arquivo\n",
    "from google.cloud import vision\n",
    "from google.cloud.vision import types\n",
    "\n",
    "# cria variaveis para teste\n",
    "arquivo = '4.jpeg'\n",
    "\n",
    "# inicia o cliente que chamará as apis\n",
    "client = vision.ImageAnnotatorClient()\n",
    "\n",
    "# nome do arquivo que processaremos\n",
    "file_name = os.path.join(\n",
    "    pasta_entrada, \n",
    "    arquivo)\n",
    "print(file_name)\n",
    "\n",
    "# carrega o arquivo de imagem na memória\n",
    "with io.open(file_name, 'rb') as image_file:\n",
    "    content = image_file.read()\n",
    "\n",
    "image = types.Image(content=content)\n",
    "\n",
    "# detecta a imagem e dá etiquetas a ela\n",
    "response = client.label_detection(image=image)\n",
    "labels = response.label_annotations\n",
    "\n",
    "# imprime na tela\n",
    "print('Labels:')\n",
    "for label in labels:\n",
    "    print(label)"
   ]
  },
  {
   "cell_type": "markdown",
   "metadata": {},
   "source": [
    "![4.jpg](ImagensSemNome/4.jpeg)"
   ]
  },
  {
   "cell_type": "markdown",
   "metadata": {},
   "source": [
    "Agora que temos tudo o que precisamos, vamos terminar o programa"
   ]
  },
  {
   "cell_type": "code",
   "execution_count": null,
   "metadata": {},
   "outputs": [],
   "source": [
    "import io\n",
    "import os\n",
    "\n",
    "# define onde está a nossa chave\n",
    "arquivo_chave = 'client_secret.json'\n",
    "os.environ['GOOGLE_APPLICATION_CREDENTIALS']=os.path.join(diretorio_atual, arquivo_chave)\n",
    "\n",
    "# importação de arquivo\n",
    "from google.cloud import vision\n",
    "from google.cloud.vision import types\n",
    "\n",
    "# inicia o cliente que chamará as apis\n",
    "client = vision.ImageAnnotatorClient()\n",
    "\n",
    "def identificaImagens(caminhoArquivo):\n",
    "    \"\"\"\n",
    "    Identifica etiquetas (tags) associadas com uma imagem\n",
    "    Args:\n",
    "        caminhoArquivo: arquivo a ser identificado, com caminho completo\n",
    "    Returns:\n",
    "        lista com as tags, em ordem de maior certeza para menor\n",
    "    \"\"\"\n",
    "    # nome do arquivo que processaremos    \n",
    "    print(\"Processando Arquivo {}\".format(caminhoArquivo))\n",
    "\n",
    "    # carrega o arquivo de imagem na memória\n",
    "    with io.open(caminhoArquivo, 'rb') as image_file:\n",
    "        content = image_file.read()\n",
    "    image = types.Image(content=content)\n",
    "\n",
    "    # detecta a imagem e dá etiquetas a ela\n",
    "    response = client.label_detection(image=image)\n",
    "    labels = response.label_annotations\n",
    "\n",
    "    # imprime na tela\n",
    "    return [label.description for label in labels]"
   ]
  },
  {
   "cell_type": "code",
   "execution_count": null,
   "metadata": {},
   "outputs": [],
   "source": [
    "identificaImagens(file_name)"
   ]
  },
  {
   "cell_type": "code",
   "execution_count": null,
   "metadata": {},
   "outputs": [],
   "source": [
    "import shutil\n",
    "\n",
    "print(\"Diretório atual {}\".format(diretorio_atual))\n",
    "for arquivo in os.listdir(pasta_entrada):\n",
    "    # abrir a foto\n",
    "    nome_arquivo = os.path.join(diretorio_atual, pasta_entrada, arquivo)\n",
    "    \n",
    "    # identificar o que é\n",
    "    tags = identificaImagens(nome_arquivo)\n",
    "\n",
    "    # acha a extensão do arquivo. Ex: file.jpg (divide no ponto e pega o último pedaço)\n",
    "    extensao = arquivo.split('.')[-1]\n",
    "    \n",
    "    # cria o novo nome, usando as 3 primeiras tags\n",
    "    novo_nome = '{}.{}'.format(\"-\".join(tags), extensao)\n",
    "    novo_nome = novo_nome.replace(\" \", \"_\")\n",
    "    novo_nome = os.path.join(pasta_saida, novo_nome)\n",
    "    \n",
    "    # renomear(copiar) o arquivo\n",
    "    shutil.copyfile(nome_arquivo, novo_nome)\n",
    "#     os.rename(nome_arquivo, novo_nome)"
   ]
  },
  {
   "cell_type": "markdown",
   "metadata": {},
   "source": [
    "Mas e se quiséssemos salvar estas fotos em um [arquivo](https://www.google.com/search?q=python3+salvando+arquivo&oq=python3+salvando+arquivo&aqs=chrome..69i57.9570j0j7&sourceid=chrome&ie=UTF-8)??"
   ]
  },
  {
   "cell_type": "code",
   "execution_count": null,
   "metadata": {},
   "outputs": [],
   "source": [
    "#salvaremos a informação em um csv\n",
    "arquivo_salvo = os.path.join(pasta_saida, 'lista_arquivos.csv')\n",
    "with open(arquivo_salvo, 'w') as arquivo_escrita:\n",
    "    for arquivo in os.listdir(pasta_entrada):\n",
    "        arquivo_escrita.write(arquivo)\n",
    "        \n",
    "# abra o arquivo. Existe algo estranho nele?"
   ]
  },
  {
   "cell_type": "code",
   "execution_count": null,
   "metadata": {},
   "outputs": [],
   "source": [
    "# precisamos coloca um pula linha para ficar mais bonito\n",
    "with open(arquivo_salvo, 'w') as arquivo_escrita:\n",
    "    for arquivo in os.listdir(pasta_entrada):\n",
    "        arquivo_escrita.write(arquivo+'\\n')"
   ]
  },
  {
   "cell_type": "markdown",
   "metadata": {},
   "source": [
    "E se quiséssemos fazer algo em colunas? (abra no excel mais tarde)"
   ]
  },
  {
   "cell_type": "code",
   "execution_count": null,
   "metadata": {},
   "outputs": [],
   "source": [
    "with open(arquivo_salvo, 'w') as arquivo_escrita:\n",
    "    for i, arquivo in enumerate(os.listdir(pasta_entrada)):\n",
    "        arquivo_escrita.write('{} ; {} ; {}\\n'.format(i, pasta_entrada, arquivo))"
   ]
  },
  {
   "cell_type": "code",
   "execution_count": null,
   "metadata": {},
   "outputs": [],
   "source": [
    "# colocando cabeçalho \n",
    "with open(arquivo_salvo, 'w') as arquivo_escrita:\n",
    "    arquivo_escrita.write('{} ; {} ; {}\\n'.format('id', 'pasta de entrada', 'arquivo'))\n",
    "    for i, arquivo in enumerate(os.listdir(pasta_entrada)):\n",
    "        arquivo_escrita.write('{} ; {} ; {}\\n'.format(i, pasta_entrada, arquivo))"
   ]
  },
  {
   "cell_type": "markdown",
   "metadata": {},
   "source": [
    "Claro que no `Python` já existe alguem que precisou fazer isto e resolveu disponibilizar [algo melhor](https://www.google.com/search?q=python3+escrevendo+csv&oq=python3+&aqs=chrome.1.69i59l2j69i57j69i60l2j0.2736j0j4&sourceid=chrome&ie=UTF-8)."
   ]
  },
  {
   "cell_type": "code",
   "execution_count": null,
   "metadata": {},
   "outputs": [],
   "source": [
    "import csv\n",
    "\n",
    "# primeiro lemos o que já haviamos escrito\n",
    "with open(arquivo_salvo, 'r') as csvfile:\n",
    "    arquivo = csv.reader(csvfile, delimiter=';', quotechar='\"')\n",
    "    for row in arquivo:\n",
    "        print(', '.join(row))"
   ]
  },
  {
   "cell_type": "code",
   "execution_count": null,
   "metadata": {},
   "outputs": [],
   "source": [
    "# podemos escrever direto de uma estrutura\n",
    "with open(arquivo_salvo, 'w', newline='') as f:\n",
    "    writer = csv.writer(f, delimiter=\",\")\n",
    "    linhas_excel = []\n",
    "    for arquivo in os.listdir(pasta_entrada):\n",
    "        linhas_excel.append([i, pasta_entrada, arquivo])\n",
    "    writer.writerows(linhas_excel)"
   ]
  }
 ],
 "metadata": {
  "kernelspec": {
   "display_name": "Python 3",
   "language": "python",
   "name": "python3"
  },
  "language_info": {
   "codemirror_mode": {
    "name": "ipython",
    "version": 3
   },
   "file_extension": ".py",
   "mimetype": "text/x-python",
   "name": "python",
   "nbconvert_exporter": "python",
   "pygments_lexer": "ipython3",
   "version": "3.6.8"
  }
 },
 "nbformat": 4,
 "nbformat_minor": 2
}
