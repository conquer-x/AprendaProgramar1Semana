{
 "cells": [
  {
   "cell_type": "code",
   "execution_count": 49,
   "metadata": {
    "collapsed": false
   },
   "outputs": [
    {
     "name": "stdout",
     "output_type": "stream",
     "text": [
      "Requirement already up-to-date: google-cloud-speech in /Users/adrianow/Documents/Programs/anaconda2/lib/python2.7/site-packages\n",
      "Collecting google-cloud-texttospeech\n",
      "  Downloading https://files.pythonhosted.org/packages/46/db/5cbcb5b21a213f38f5b9a6d026cf9d5a299f489dcb741807a6e1dfdff051/google_cloud_texttospeech-0.4.0-py2.py3-none-any.whl (48kB)\n",
      "\u001b[K    100% |████████████████████████████████| 51kB 191kB/s \n",
      "\u001b[?25hRequirement already up-to-date: google-api-core[grpc]<2.0.0dev,>=1.6.0 in /Users/adrianow/Documents/Programs/anaconda2/lib/python2.7/site-packages (from google-cloud-speech)\n",
      "Requirement already up-to-date: six>=1.10.0 in /Users/adrianow/Documents/Programs/anaconda2/lib/python2.7/site-packages (from google-api-core[grpc]<2.0.0dev,>=1.6.0->google-cloud-speech)\n",
      "Requirement already up-to-date: pytz in /Users/adrianow/Documents/Programs/anaconda2/lib/python2.7/site-packages (from google-api-core[grpc]<2.0.0dev,>=1.6.0->google-cloud-speech)\n",
      "Requirement already up-to-date: googleapis-common-protos!=1.5.4,<2.0dev,>=1.5.3 in /Users/adrianow/Documents/Programs/anaconda2/lib/python2.7/site-packages (from google-api-core[grpc]<2.0.0dev,>=1.6.0->google-cloud-speech)\n",
      "Requirement already up-to-date: futures>=3.2.0; python_version < \"3.2\" in /Users/adrianow/Documents/Programs/anaconda2/lib/python2.7/site-packages (from google-api-core[grpc]<2.0.0dev,>=1.6.0->google-cloud-speech)\n",
      "Requirement already up-to-date: requests<3.0.0dev,>=2.18.0 in /Users/adrianow/Documents/Programs/anaconda2/lib/python2.7/site-packages (from google-api-core[grpc]<2.0.0dev,>=1.6.0->google-cloud-speech)\n",
      "Requirement already up-to-date: setuptools>=34.0.0 in /Users/adrianow/Documents/Programs/anaconda2/lib/python2.7/site-packages (from google-api-core[grpc]<2.0.0dev,>=1.6.0->google-cloud-speech)\n",
      "Requirement already up-to-date: google-auth<2.0dev,>=0.4.0 in /Users/adrianow/Documents/Programs/anaconda2/lib/python2.7/site-packages (from google-api-core[grpc]<2.0.0dev,>=1.6.0->google-cloud-speech)\n",
      "Requirement already up-to-date: protobuf>=3.4.0 in /Users/adrianow/Documents/Programs/anaconda2/lib/python2.7/site-packages (from google-api-core[grpc]<2.0.0dev,>=1.6.0->google-cloud-speech)\n",
      "Requirement already up-to-date: grpcio>=1.8.2; extra == \"grpc\" in /Users/adrianow/Documents/Programs/anaconda2/lib/python2.7/site-packages (from google-api-core[grpc]<2.0.0dev,>=1.6.0->google-cloud-speech)\n",
      "Requirement already up-to-date: urllib3<1.25,>=1.21.1 in /Users/adrianow/Documents/Programs/anaconda2/lib/python2.7/site-packages (from requests<3.0.0dev,>=2.18.0->google-api-core[grpc]<2.0.0dev,>=1.6.0->google-cloud-speech)\n",
      "Requirement already up-to-date: chardet<3.1.0,>=3.0.2 in /Users/adrianow/Documents/Programs/anaconda2/lib/python2.7/site-packages (from requests<3.0.0dev,>=2.18.0->google-api-core[grpc]<2.0.0dev,>=1.6.0->google-cloud-speech)\n",
      "Requirement already up-to-date: idna<2.9,>=2.5 in /Users/adrianow/Documents/Programs/anaconda2/lib/python2.7/site-packages (from requests<3.0.0dev,>=2.18.0->google-api-core[grpc]<2.0.0dev,>=1.6.0->google-cloud-speech)\n",
      "Requirement already up-to-date: certifi>=2017.4.17 in /Users/adrianow/Documents/Programs/anaconda2/lib/python2.7/site-packages (from requests<3.0.0dev,>=2.18.0->google-api-core[grpc]<2.0.0dev,>=1.6.0->google-cloud-speech)\n",
      "Requirement already up-to-date: pyasn1-modules>=0.2.1 in /Users/adrianow/Documents/Programs/anaconda2/lib/python2.7/site-packages (from google-auth<2.0dev,>=0.4.0->google-api-core[grpc]<2.0.0dev,>=1.6.0->google-cloud-speech)\n",
      "Requirement already up-to-date: cachetools>=2.0.0 in /Users/adrianow/Documents/Programs/anaconda2/lib/python2.7/site-packages (from google-auth<2.0dev,>=0.4.0->google-api-core[grpc]<2.0.0dev,>=1.6.0->google-cloud-speech)\n",
      "Requirement already up-to-date: rsa>=3.1.4 in /Users/adrianow/Documents/Programs/anaconda2/lib/python2.7/site-packages (from google-auth<2.0dev,>=0.4.0->google-api-core[grpc]<2.0.0dev,>=1.6.0->google-cloud-speech)\n",
      "Requirement already up-to-date: enum34>=1.0.4 in /Users/adrianow/Documents/Programs/anaconda2/lib/python2.7/site-packages (from grpcio>=1.8.2; extra == \"grpc\"->google-api-core[grpc]<2.0.0dev,>=1.6.0->google-cloud-speech)\n",
      "Requirement already up-to-date: pyasn1<0.5.0,>=0.4.1 in /Users/adrianow/Documents/Programs/anaconda2/lib/python2.7/site-packages (from pyasn1-modules>=0.2.1->google-auth<2.0dev,>=0.4.0->google-api-core[grpc]<2.0.0dev,>=1.6.0->google-cloud-speech)\n",
      "Installing collected packages: google-cloud-texttospeech\n",
      "Successfully installed google-cloud-texttospeech-0.4.0\n",
      "\u001b[33mYou are using pip version 9.0.1, however version 19.0.3 is available.\n",
      "You should consider upgrading via the 'pip install --upgrade pip' command.\u001b[0m\n",
      "Requirement already satisfied: sounddevice in /Users/adrianow/Documents/Programs/anaconda2/lib/python2.7/site-packages\n",
      "Requirement already satisfied: soundfile in /Users/adrianow/Documents/Programs/anaconda2/lib/python2.7/site-packages\n",
      "Requirement already satisfied: CFFI>=1.0 in /Users/adrianow/Documents/Programs/anaconda2/lib/python2.7/site-packages (from sounddevice)\n",
      "Requirement already satisfied: pycparser in /Users/adrianow/Documents/Programs/anaconda2/lib/python2.7/site-packages (from CFFI>=1.0->sounddevice)\n",
      "\u001b[33mYou are using pip version 9.0.1, however version 19.0.3 is available.\n",
      "You should consider upgrading via the 'pip install --upgrade pip' command.\u001b[0m\n"
     ]
    }
   ],
   "source": [
    "! pip install --upgrade google-cloud-speech google-cloud-texttospeech\n",
    "! pip install sounddevice soundfile"
   ]
  },
  {
   "cell_type": "code",
   "execution_count": 102,
   "metadata": {
    "collapsed": false
   },
   "outputs": [
    {
     "name": "stdout",
     "output_type": "stream",
     "text": [
      "Gravando\n",
      "Pronto\n"
     ]
    }
   ],
   "source": [
    "import sounddevice as sd\n",
    "import soundfile as sf\n",
    "import numpy as np\n",
    "import time\n",
    "\n",
    "# define some parameters for recording\n",
    "sr = 16000\n",
    "sd.default.samplerate = sr\n",
    "sd.default.channels = 1\n",
    "sf.default_subtype('WAV')\n",
    "\n",
    "def record(duration=3, sample_rate=sr, file_name='record.wav'):\n",
    "    \"\"\"\n",
    "    Grava um áudio e salva em um arquivo\n",
    "    \"\"\"\n",
    "    # grava o áudio salvando na variável data\n",
    "    print(\"Gravando\")\n",
    "    data = sd.rec(duration * sample_rate, blocking=True)\n",
    "#     print(sd.wait())\n",
    "#     time.sleep(duration)\n",
    "#     print(sd.wait())\n",
    "    print(\"Pronto\")\n",
    "    \n",
    "    # salva os dados\n",
    "    sf.write(file_name, data, sample_rate)\n",
    "    return file_name\n",
    "\n",
    "def read(file_name):\n",
    "    \"\"\" Read a file \"\"\"\n",
    "    return sf.read(file_name)\n",
    "\n",
    "def play(data, sample_rate):\n",
    "    sd.play(data, sample_rate, blocking=True)\n",
    "    \n",
    "\n",
    "fname = record()\n",
    "data, fs = read(fname)\n",
    "play(data, fs)"
   ]
  },
  {
   "cell_type": "code",
   "execution_count": 75,
   "metadata": {
    "collapsed": false
   },
   "outputs": [],
   "source": [
    "import io\n",
    "import os\n",
    "\n",
    "# pega o caminho até o arquivo que foi gravado\n",
    "gae_key = 'gaekey.json'\n",
    "curr_path = os.getcwd()\n",
    "file_name = os.path.join(curr_path,gae_key)\n",
    "os.environ['GOOGLE_APPLICATION_CREDENTIALS'] = file_name\n",
    "\n",
    "synth_file = 'synt_wave.wav'"
   ]
  },
  {
   "cell_type": "code",
   "execution_count": 90,
   "metadata": {
    "collapsed": false
   },
   "outputs": [
    {
     "name": "stdout",
     "output_type": "stream",
     "text": [
      "Gravando\n",
      "Pronto\n",
      "Sem retorno\n"
     ]
    }
   ],
   "source": [
    "# Imports the Google Cloud client library\n",
    "from google.cloud import speech\n",
    "from google.cloud.speech import enums\n",
    "from google.cloud.speech import types\n",
    "\n",
    "\n",
    "def ouvir_o_comando():\n",
    "    \n",
    "    fname = record()\n",
    "    \n",
    "    # Instantiates a client\n",
    "    client = speech.SpeechClient().from_service_account_json(\n",
    "            'gaekey.json')\n",
    "\n",
    "    # The name of the audio file to transcribe\n",
    "    file_name = os.path.join(\n",
    "        os.getcwd(),\n",
    "        fname)\n",
    "\n",
    "    # Loads the audio into memory\n",
    "    with io.open(file_name, 'rb') as audio_file:\n",
    "        content = audio_file.read()\n",
    "        audio = types.RecognitionAudio(content=content)\n",
    "\n",
    "    config = types.RecognitionConfig(\n",
    "        encoding=enums.RecognitionConfig.AudioEncoding.LINEAR16,\n",
    "        sample_rate_hertz=sd.default.samplerate,\n",
    "        language_code='pt-BR')\n",
    "\n",
    "    # Detects speech in the audio file\n",
    "    response = client.recognize(config, audio)\n",
    "\n",
    "    for result in response.results:\n",
    "        print(u'Transcript: {}'.format(result.alternatives[0].transcript))\n",
    "        \n",
    "    if response.results:\n",
    "        return result.alternatives[0].transcript\n",
    "    else:\n",
    "        print(u'Sem retorno')\n",
    "        return None\n",
    "        \n",
    "ouvir_o_comando()"
   ]
  },
  {
   "cell_type": "code",
   "execution_count": 96,
   "metadata": {
    "collapsed": false
   },
   "outputs": [
    {
     "name": "stdout",
     "output_type": "stream",
     "text": [
      "Falando: tratamento que uma coxinha já visse\n",
      "Audio content written to file synt_wave.wav\n"
     ]
    }
   ],
   "source": [
    "\"\"\"Synthesizes speech from the input string of text or ssml.\n",
    "\n",
    "Note: ssml must be well-formed according to:\n",
    "    https://www.w3.org/TR/speech-synthesis/\n",
    "\"\"\"\n",
    "from google.cloud import texttospeech\n",
    "\n",
    "def tocar_texto(texto):\n",
    "    print(u'Falando: {}'.format(texto))\n",
    "    \n",
    "    # Instantiates a client\n",
    "    client = texttospeech.TextToSpeechClient()\n",
    "\n",
    "    # Set the text input to be synthesized\n",
    "    synthesis_input = texttospeech.types.SynthesisInput(text=texto)\n",
    "\n",
    "    # Build the voice request, select the language code (\"en-US\") and the ssml\n",
    "    # voice gender (\"neutral\")\n",
    "    voice = texttospeech.types.VoiceSelectionParams(\n",
    "        language_code='pt-BR',\n",
    "        ssml_gender=texttospeech.enums.SsmlVoiceGender.MALE)\n",
    "\n",
    "    # Select the type of audio file you want returned\n",
    "    audio_config = texttospeech.types.AudioConfig(\n",
    "        audio_encoding=texttospeech.enums.AudioEncoding.LINEAR16)\n",
    "\n",
    "    # Perform the text-to-speech request on the text input with the selected\n",
    "    # voice parameters and audio file type\n",
    "    response = client.synthesize_speech(synthesis_input, voice, audio_config)\n",
    "\n",
    "    # The response's audio_content is binary.\n",
    "    with open(synth_file, 'wb') as out:\n",
    "        # Write the response to the output file.\n",
    "        out.write(response.audio_content)\n",
    "        print('Audio content written to file {}'.format(synth_file))\n",
    "\n",
    "    data, fs = read(synth_file)\n",
    "    play(data,fs)\n",
    "    \n",
    "tocar_texto(texto = result.alternatives[0].transcript)"
   ]
  },
  {
   "cell_type": "code",
   "execution_count": 140,
   "metadata": {
    "collapsed": false
   },
   "outputs": [
    {
     "name": "stdout",
     "output_type": "stream",
     "text": [
      "Falando: olá, posso saber o seu nome?\n",
      "Audio content written to file synt_wave.wav\n",
      "Gravando\n",
      "Pronto\n",
      "Transcript: Adriano\n",
      "Falando: prazer em te conhecer, Adriano. Como posso te ajudar?\n",
      "Audio content written to file synt_wave.wav\n",
      "Gravando\n",
      "Pronto\n",
      "Transcript: traz um café para mim\n",
      "Falando: Hahaha bom comando este seu traz um café para mim. O que mais quer?\n",
      "Audio content written to file synt_wave.wav\n",
      "Gravando\n",
      "Pronto\n",
      "Transcript: sair\n",
      "Falando: tchau Adriano. Até a próxima\n",
      "Audio content written to file synt_wave.wav\n"
     ]
    }
   ],
   "source": [
    "def enum(**enums):\n",
    "    return type('Enum', (), enums)\n",
    "\n",
    "estados = enum(INICIO=0, BEM_VINDO=1, NAO_ENTENDI=2, TCHAU=3, PERGUNTA=4)\n",
    "\n",
    "jarvis_texts = { \n",
    "    estados.INICIO: u'olá, posso saber o seu nome?',\n",
    "    estados.BEM_VINDO: u'prazer em te conhecer, {aluno}. Como posso te ajudar?',\n",
    "    estados.NAO_ENTENDI: u'ce tá ficando lôco!! Não faço isto. Me dê um outro comando!',\n",
    "    estados.TCHAU: u'tchau {aluno}. Até a próxima',\n",
    "    estados.PERGUNTA: u'Hahaha bom comando este seu {comando}. O que mais quer?'\n",
    "}\n",
    "\n",
    "transicoes = {\n",
    "    estados.INICIO: estados.BEM_VINDO,\n",
    "    estados.BEM_VINDO: estados.PERGUNTA,\n",
    "    estados.PERGUNTA: estados.NAO_ENTENDI,\n",
    "    estados.NAO_ENTENDI: estados.TCHAU\n",
    "}\n",
    "\n",
    "memoria = {\n",
    "    \n",
    "}\n",
    "\n",
    "estado_atual = estados.INICIO\n",
    "estado_antigo = None\n",
    "insistencia = 0\n",
    "\n",
    "while True:\n",
    "    \n",
    "    # busca o texto atual\n",
    "    fala = jarvis_texts[estado_atual]\n",
    "    \n",
    "    # grava na memória se houver um detalhe necessário para o próximo estado\n",
    "    comando_entrada = re.search(r'(\\{.*\\})', fala)\n",
    "    if comando_entrada:\n",
    "        key = comando_entrada.group()\n",
    "        memoria[key] = memoria.get(key, comando)\n",
    "        fala = fala.replace(key, memoria[key])\n",
    "    \n",
    "    # verifica se precisa falar o nome do Aluno\n",
    "    tocar_texto(fala)\n",
    "    \n",
    "    # espere a resposta do Usuário\n",
    "    comando = ouvir_o_comando()\n",
    "    \n",
    "    # verifica se a pessoa falou algo\n",
    "    if not comando:\n",
    "        estado_antigo = estado_atual\n",
    "        estado_atual = estados.NAO_ENTENDI\n",
    "        insistencia +=1 \n",
    "    else:\n",
    "        # verificar se pediu para sair ou não falou nada durante 3 segundos\n",
    "        if comando=='sair' or insistencia==3:\n",
    "            estado_antigo = estado_atual\n",
    "            estado_atual = estados.TCHAU\n",
    "        \n",
    "        # verifica se o usuário pediu para sair ou se está falando algo\n",
    "        if estado_atual==estados.TCHAU:\n",
    "            key = '{aluno}'\n",
    "            tocar_texto(jarvis_texts[estado_atual].replace(key, memoria[key]))\n",
    "            break\n",
    "        else:\n",
    "            estado_antigo = estado_atual\n",
    "            estado_atual = transicoes[estado_atual]\n",
    "            insistencia = 0\n",
    "    "
   ]
  },
  {
   "cell_type": "code",
   "execution_count": null,
   "metadata": {
    "collapsed": true
   },
   "outputs": [],
   "source": []
  }
 ],
 "metadata": {
  "kernelspec": {
   "display_name": "Python [Root]",
   "language": "python",
   "name": "Python [Root]"
  },
  "language_info": {
   "codemirror_mode": {
    "name": "ipython",
    "version": 2
   },
   "file_extension": ".py",
   "mimetype": "text/x-python",
   "name": "python",
   "nbconvert_exporter": "python",
   "pygments_lexer": "ipython2",
   "version": "2.7.12"
  }
 },
 "nbformat": 4,
 "nbformat_minor": 2
}
